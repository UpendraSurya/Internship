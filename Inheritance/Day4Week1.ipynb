{
 "cells": [
  {
   "cell_type": "markdown",
   "source": [
    "## Inheritance"
   ],
   "metadata": {
    "collapsed": false
   },
   "id": "9e9605e207ee78e6"
  },
  {
   "cell_type": "markdown",
   "source": [
    "## Single Inheritance:\n",
    "\n",
    "Write a Python program that demonstrates single inheritance. Define a superclass called Shape with a method area() to calculate the area of the shape. Then, create a subclass called Rectangle that inherits from Shape and adds a method perimeter() to calculate the perimeter of the rectangle."
   ],
   "metadata": {
    "collapsed": false
   },
   "id": "509111b88f068bcc"
  },
  {
   "cell_type": "code",
   "execution_count": 6,
   "id": "initial_id",
   "metadata": {
    "collapsed": true,
    "ExecuteTime": {
     "end_time": "2024-06-08T10:34:46.699134800Z",
     "start_time": "2024-06-08T10:34:46.683618500Z"
    }
   },
   "outputs": [],
   "source": [
    "class Shape:\n",
    "    def area(self):\n",
    "        pass\n",
    "\n",
    "class Rectangle(Shape):\n",
    "    def __init__(self, length, width):\n",
    "        self.length = length\n",
    "        self.width = width\n",
    "\n",
    "    def area(self):\n",
    "        return self.length * self.width\n",
    "\n",
    "    def perimeter(self):\n",
    "        return 2 * (self.length + self.width)\n"
   ]
  },
  {
   "cell_type": "markdown",
   "source": [
    "## Multiple Inheritance:\n",
    "  \n",
    "Create a Python program that showcases multiple inheritance. Define two parent classes A and B. Class A has a method method_A() that prints \"Method A\". Class B has a method method_B() that prints \"Method B\". Then, create a child class C that inherits from both A and B and has a method method_C() that prints \"Method C\"."
   ],
   "metadata": {
    "collapsed": false
   },
   "id": "23543f605ac0c424"
  },
  {
   "cell_type": "code",
   "outputs": [],
   "source": [
    "class A:\n",
    "    def method_A(self):\n",
    "        print(\"Method A\")\n",
    "\n",
    "class B:\n",
    "    def method_B(self):\n",
    "        print(\"Method B\")\n",
    "\n",
    "class C(A, B):\n",
    "    def method_C(self):\n",
    "        print(\"Method C\")\n"
   ],
   "metadata": {
    "collapsed": false,
    "ExecuteTime": {
     "end_time": "2024-06-08T10:34:46.700135300Z",
     "start_time": "2024-06-08T10:34:46.690639900Z"
    }
   },
   "id": "b70fed191a61a8e2",
   "execution_count": 7
  },
  {
   "cell_type": "markdown",
   "source": [
    "## Multilevel Inheritance:\n",
    " Implement a Python program to demonstrate multilevel inheritance. Define three classes: Person, Employee, and Manager. Person should have attributes name and age, while Employee should inherit from Person and include additional attributes like emp_id and salary. Finally, Manager should inherit from Employee and have an additional attribute department."
   ],
   "metadata": {
    "collapsed": false
   },
   "id": "dd595ca3d1cefd19"
  },
  {
   "cell_type": "code",
   "outputs": [],
   "source": [
    "class Person:\n",
    "    def __init__(self, name, age):\n",
    "        self.name = name\n",
    "        self.age = age\n",
    "\n",
    "class Employee(Person):\n",
    "    def __init__(self, name, age, emp_id, salary):\n",
    "        super().__init__(name, age)\n",
    "        self.emp_id = emp_id\n",
    "        self.salary = salary\n",
    "\n",
    "class Manager(Employee):\n",
    "    def __init__(self, name, age, emp_id, salary, department):\n",
    "        super().__init__(name, age, emp_id, salary)\n",
    "        self.department = department\n"
   ],
   "metadata": {
    "collapsed": false,
    "ExecuteTime": {
     "end_time": "2024-06-08T10:34:46.701427500Z",
     "start_time": "2024-06-08T10:34:46.698125200Z"
    }
   },
   "id": "f4e692d0391d2003",
   "execution_count": 8
  },
  {
   "cell_type": "markdown",
   "source": [
    "## Hierarchical Inheritance: \n",
    "\n",
    "Write a Python script that illustrates hierarchical inheritance. Create a superclass Animal with a method sound() that prints the sound of the animal. Then, create two subclasses Dog and Cat that inherit from Animal and each override the sound() method to print \"Bark\" and \"Meow\" respectively."
   ],
   "metadata": {
    "collapsed": false
   },
   "id": "953cf84ebea7f6dc"
  },
  {
   "cell_type": "code",
   "outputs": [],
   "source": [
    "class Animal:\n",
    "    def sound(self):\n",
    "        pass\n",
    "\n",
    "class Dog(Animal):\n",
    "    def sound(self):\n",
    "        print(\"Bark\")\n",
    "\n",
    "class Cat(Animal):\n",
    "    def sound(self):\n",
    "        print(\"Meow\")\n"
   ],
   "metadata": {
    "collapsed": false,
    "ExecuteTime": {
     "end_time": "2024-06-08T10:34:46.719449800Z",
     "start_time": "2024-06-08T10:34:46.703785Z"
    }
   },
   "id": "dad8c547c17ea694",
   "execution_count": 9
  },
  {
   "cell_type": "markdown",
   "source": [
    "## Hybrid Inheritance:\n",
    "\n",
    " Develop a Python program showcasing hybrid inheritance. Create a class Vehicle with methods start() and stop(). Then, create two subclasses Car and Motorcycle that inherit from Vehicle. Additionally, create another subclass HybridCar that inherits from both Car and Motorcycle and adds a method charge_battery()."
   ],
   "metadata": {
    "collapsed": false
   },
   "id": "ee44175a73abd7e6"
  },
  {
   "cell_type": "code",
   "outputs": [],
   "source": [
    "class Vehicle:\n",
    "    def start(self):\n",
    "        print(\"Vehicle started\")\n",
    "\n",
    "    def stop(self):\n",
    "        print(\"Vehicle stopped\")\n",
    "\n",
    "class Car(Vehicle):\n",
    "    def drive(self):\n",
    "        print(\"Car is being driven\")\n",
    "\n",
    "class Motorcycle(Vehicle):\n",
    "    def ride(self):\n",
    "        print(\"Motorcycle is being ridden\")\n",
    "\n",
    "class HybridCar(Car, Motorcycle):\n",
    "    def charge_battery(self):\n",
    "        print(\"Battery charging\")\n"
   ],
   "metadata": {
    "collapsed": false,
    "ExecuteTime": {
     "end_time": "2024-06-08T10:34:46.722452100Z",
     "start_time": "2024-06-08T10:34:46.709618400Z"
    }
   },
   "id": "cc5e84f69f7942c2",
   "execution_count": 10
  }
 ],
 "metadata": {
  "kernelspec": {
   "display_name": "Python 3",
   "language": "python",
   "name": "python3"
  },
  "language_info": {
   "codemirror_mode": {
    "name": "ipython",
    "version": 2
   },
   "file_extension": ".py",
   "mimetype": "text/x-python",
   "name": "python",
   "nbconvert_exporter": "python",
   "pygments_lexer": "ipython2",
   "version": "2.7.6"
  }
 },
 "nbformat": 4,
 "nbformat_minor": 5
}
