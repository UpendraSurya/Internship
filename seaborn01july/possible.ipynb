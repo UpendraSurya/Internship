{
 "cells": [
  {
   "cell_type": "code",
   "outputs": [],
   "source": [
    "import numpy as np\n",
    "import pandas as pd\n",
    "import matplotlib.pyplot as plt\n",
    "import seaborn as sns\n",
    "from faker import Faker\n",
    "import random\n",
    "\n",
    "\n",
    "fake = Faker()\n",
    "# this where we decide number of patients\n",
    "n=10000\n",
    "\n",
    "#Creating columns in dataset\n",
    "data={\n",
    "    'patients_id':[fake.unique.uuid4() for _ in range(n)],\n",
    "    'patient_name':[fake.first_name() for _ in range(n)],\n",
    "    'patient_age':[random.randint(0,85) for _ in range(n)],\n",
    "    'gender':[random.choice(['male','female']) for _ in range(n)],\n",
    "    'address':[fake.address() for _ in range(n)],\n",
    "    'admission_date':[fake.date_this_year()for _ in range(n)],\n",
    "    'discharge_date':[fake.date_this_year()for _ in range(n)],\n",
    "    'doctor_name':[random.choice(['Dr. John Smith','Dr. Jane Doe',\n",
    "                                  'Dr. Emily Johnson',\n",
    "                                  'Dr. Michael Brown',\n",
    "                                  'Dr. Sarah Davis','Dr. Robert Miller','Dr. Jessica Wilson'\n",
    "                                  'Dr. David Moore',\n",
    "                                  'Dr. Ashley Taylor',\n",
    "                                  'Dr. Thomas Anderson'])for i in range(n)],\n",
    "    'hospital_department': [random.choice(['Cardiology', 'Neurology', 'Orthopedics', 'Pediatrics', 'General Surgery']) for _ in range(n)],\n",
    "    'blood_type': [random.choice(['A+', 'A-', 'B+', 'B-', 'AB+', 'AB-', 'O+', 'O-']) for _ in range(n)],\n",
    "    'height_cm': [round(random.uniform(140, 200), 1) for _ in range(n)],\n",
    "    'weight_kg': [round(random.uniform(40, 120), 1) for _ in range(n)],\n",
    "    'insurence_providers': [random.choice(['Murpy llc', 'brainrottingcommunity', 'due to us', 'we are for u', 'who']) for _ in range(n)],\n",
    "    'allergies': [random.choice(['None', 'Penicillin', 'Peanuts', 'Latex', 'Bee Stings']) for _ in range(n)],\n",
    "    'smoking_status': [random.choice(['Smoker', 'Non-Smoker']) for _ in range(n)],\n",
    "    'alcoholic': [random.choice(['Yes', 'No']) for _ in range(n)],\n",
    "    'readmitted': [random.choice(['Yes', 'No']) for _ in range(n)],\n",
    "    \n",
    "}\n",
    "# Converting the data into dataframe\n",
    "df=pd.DataFrame(data)\n",
    "\n",
    "#this part of the code lets you have the discharge date to be smaller than the admission date\n",
    "df['discharge_date'] = df.apply(lambda row: fake.date_between(start_date=row['admission_date']) if row['discharge_date'] <= row['admission_date'] else row['discharge_date'], axis=1)\n",
    "\n",
    "\n",
    "print(df.head(10))\n",
    "\n",
    "# getting the dataframe into the csv file\n",
    "df.to_csv('record2024.csv', index=False)\n"
   ],
   "metadata": {
    "collapsed": false,
    "is_executing": true
   },
   "execution_count": null
  },
  {
   "cell_type": "code",
   "outputs": [],
   "source": [
    "#importing the csv\n",
    "df=pd.read_csv('record2024.csv')\n",
    "print(df.head())"
   ],
   "metadata": {
    "collapsed": false,
    "is_executing": true
   },
   "execution_count": null
  },
  {
   "cell_type": "code",
   "outputs": [],
   "source": [
    "#now let's start working on Visualization\n",
    "# for visualization we are going to use matplotlib and seaborn\n",
    "\n",
    "#now to find the age distribution in patients\n",
    "\n",
    "plt.figure(figsize=(10,6))\n",
    "sns.histplot(df.patient_age,bins=20,color='red')\n",
    "plt.title('Patient Age Distribution')"
   ],
   "metadata": {
    "collapsed": false,
    "is_executing": true
   },
   "execution_count": null
  },
  {
   "cell_type": "code",
   "outputs": [],
   "source": [
    "#gender distribution\n",
    "\n",
    "#plt.figure(figsize=(10,3))\n",
    "p={'male':'blue','female':'red'}\n",
    "sns.countplot(data=df,x='gender',palette=p)\n"
   ],
   "metadata": {
    "collapsed": false,
    "is_executing": true
   },
   "execution_count": null
  },
  {
   "cell_type": "code",
   "outputs": [],
   "source": [
    "gender_counts = df['gender'].value_counts()\n",
    "plt.pie(gender_counts, labels=gender_counts.index, autopct='%1.1f%%', startangle=140)"
   ],
   "metadata": {
    "collapsed": false,
    "is_executing": true
   },
   "execution_count": null
  },
  {
   "cell_type": "code",
   "outputs": [],
   "source": [
    "# Converting dates to datetime\n",
    "df['admission_date'] = pd.to_datetime(df['admission_date'])\n",
    "df['discharge_date'] = pd.to_datetime(df['discharge_date'])\n",
    "\n",
    "# Plotting Admissions and Discharges over Time\n",
    "plt.figure(figsize=(12, 6))\n",
    "admission_counts = df['admission_date'].dt.to_period('M').value_counts().sort_index()\n",
    "discharge_counts = df['discharge_date'].dt.to_period('M').value_counts().sort_index()\n",
    "\n",
    "admission_counts.plot(kind='line', marker='o', label='Admissions')\n",
    "discharge_counts.plot(kind='line', marker='x', label='Discharges')\n",
    "plt.title('Admissions and Discharges Over Time')\n",
    "plt.xlabel('Date')\n",
    "plt.ylabel('Number of Patients')\n",
    "plt.legend()\n",
    "plt.show()\n"
   ],
   "metadata": {
    "collapsed": false,
    "is_executing": true
   },
   "execution_count": null
  },
  {
   "cell_type": "code",
   "outputs": [],
   "source": [
    "plt.figure(figsize=(12, 6))\n",
    "sns.boxplot(data=df, x='gender', y='patient_age')\n",
    "plt.title('Age Distribution by Gender')\n",
    "plt.xlabel('Gender')\n",
    "plt.ylabel('Age')\n",
    "plt.show()"
   ],
   "metadata": {
    "collapsed": false,
    "is_executing": true
   },
   "execution_count": null
  },
  {
   "cell_type": "code",
   "outputs": [],
   "source": [
    "plt.figure(figsize=(10, 6))\n",
    "sns.scatterplot(data=df, x='height_cm', y='weight_kg', hue='gender')\n",
    "plt.title('Height vs Weight Distribution')\n",
    "plt.xlabel('Height (cm)')\n",
    "plt.ylabel('Weight (kg)')\n",
    "plt.legend(title='Gender')\n",
    "plt.show()\n"
   ],
   "metadata": {
    "collapsed": false,
    "is_executing": true
   },
   "execution_count": null
  },
  {
   "cell_type": "code",
   "outputs": [],
   "source": [
    "plt.figure(figsize=(12, 6))\n",
    "sns.barplot(data=df, x='smoking_status', y='patient_age')\n",
    "plt.title('Age Distribution by Smoking Status')\n",
    "plt.xlabel('Smoking Status')\n",
    "plt.ylabel('Age')\n",
    "plt.show()\n"
   ],
   "metadata": {
    "collapsed": false,
    "is_executing": true
   },
   "execution_count": null
  },
  {
   "cell_type": "code",
   "outputs": [],
   "source": [
    "\n",
    "readmission_rates = df.groupby('hospital_department')['readmitted'].value_counts(normalize=True).unstack().fillna(0)\n",
    "\n",
    "plt.figure(figsize=(12, 6))\n",
    "readmission_rates.plot(kind='bar', stacked=True)\n",
    "plt.title('Readmission Rates by Department')\n",
    "plt.xlabel('Hospital Department')\n",
    "plt.ylabel('Proportion of Patients')\n",
    "plt.legend(title='Readmitted', loc='upper right')\n",
    "plt.show()\n"
   ],
   "metadata": {
    "collapsed": false,
    "is_executing": true
   },
   "execution_count": null
  },
  {
   "cell_type": "code",
   "outputs": [],
   "source": [],
   "metadata": {
    "collapsed": false,
    "is_executing": true
   }
  }
 ],
 "metadata": {
  "kernelspec": {
   "display_name": "Python 3",
   "language": "python",
   "name": "python3"
  },
  "language_info": {
   "codemirror_mode": {
    "name": "ipython",
    "version": 3
   },
   "file_extension": ".py",
   "mimetype": "text/x-python",
   "name": "python",
   "nbconvert_exporter": "python",
   "pygments_lexer": "ipython3",
   "version": "3.10.7"
  }
 },
 "nbformat": 4,
 "nbformat_minor": 2
}
