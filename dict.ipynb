{
 "cells": [
  {
   "attachments": {},
   "cell_type": "markdown",
   "metadata": {},
   "source": [
    "Dictionaries"
   ]
  },
  {
   "cell_type": "code",
   "execution_count": 1,
   "metadata": {
    "ExecuteTime": {
     "end_time": "2024-06-10T09:55:14.571050200Z",
     "start_time": "2024-06-10T09:55:14.550050500Z"
    }
   },
   "outputs": [
    {
     "name": "stdout",
     "output_type": "stream",
     "text": [
      "{'a': 'apples', 'b': 'balls', 'c': 'cat'}\n"
     ]
    }
   ],
   "source": [
    "# Dictionary are one of unique data stractures , unlike all other data structure that are there in the python\n",
    "# there are 2 things in one element of dictionary they are keys and values\n",
    "nary={\"a\":\"apples\",\"b\":\"balls\",\"c\":\"cat\"}\n",
    "print(nary)   "
   ]
  },
  {
   "cell_type": "code",
   "execution_count": 2,
   "metadata": {
    "ExecuteTime": {
     "end_time": "2024-06-10T09:55:14.613047900Z",
     "start_time": "2024-06-10T09:55:14.576050100Z"
    }
   },
   "outputs": [
    {
     "data": {
      "text/plain": "'balls'"
     },
     "execution_count": 2,
     "metadata": {},
     "output_type": "execute_result"
    }
   ],
   "source": [
    "''' How to call values using keys'''\n",
    "nary[\"b\"]"
   ]
  },
  {
   "cell_type": "code",
   "execution_count": 3,
   "metadata": {
    "ExecuteTime": {
     "end_time": "2024-06-10T09:55:14.617050300Z",
     "start_time": "2024-06-10T09:55:14.588050900Z"
    }
   },
   "outputs": [
    {
     "name": "stdout",
     "output_type": "stream",
     "text": [
      "APPLES\n"
     ]
    }
   ],
   "source": [
    "# Properties for Dictionary\n",
    "fizz=nary[\"a\"].upper()\n",
    "print(fizz)"
   ]
  },
  {
   "attachments": {},
   "cell_type": "markdown",
   "metadata": {},
   "source": [
    "Creating dictionary"
   ]
  },
  {
   "attachments": {},
   "cell_type": "markdown",
   "metadata": {},
   "source": [
    "How to create an dictionary "
   ]
  },
  {
   "cell_type": "code",
   "execution_count": 4,
   "metadata": {
    "ExecuteTime": {
     "end_time": "2024-06-10T09:55:14.665045300Z",
     "start_time": "2024-06-10T09:55:14.604045300Z"
    }
   },
   "outputs": [
    {
     "name": "stdout",
     "output_type": "stream",
     "text": [
      "{'animal': 'dog', 'animal 2': 'cat', 'animal 3': 'tiger'}\n"
     ]
    }
   ],
   "source": [
    "# For creating a dictionary, to take an empty set.\n",
    "s={}\n",
    "# Create a new key through assigning a values\n",
    "s[\"animal\"]=\"dog\"\n",
    "# second element \n",
    "s[\"animal 2\"]=\"cat\"\n",
    "# We can create as many element as we need\n",
    "s[\"animal 3\"]=\"tiger\"\n",
    "# We can print whole set as dictionary\n",
    "print(s)"
   ]
  },
  {
   "attachments": {},
   "cell_type": "markdown",
   "metadata": {},
   "source": [
    "Nesting  with dictionaries"
   ]
  },
  {
   "cell_type": "code",
   "execution_count": 5,
   "metadata": {
    "ExecuteTime": {
     "end_time": "2024-06-10T09:55:14.667048400Z",
     "start_time": "2024-06-10T09:55:14.621046Z"
    }
   },
   "outputs": [
    {
     "name": "stdout",
     "output_type": "stream",
     "text": [
      "{'nested key': {'sub-nested key': 'value'}}\n",
      "{'sub-nested key': 'value'}\n",
      "value\n"
     ]
    }
   ],
   "source": [
    "# We can add dictionary inside a dictionary \n",
    "#  Here  we nest dictionary inside a dictionary\n",
    "t={\"key\":{\"nested key\":{\"sub-nested key\":\"value\"}}}\n",
    "# calling first key\n",
    "print(t[\"key\"])\n",
    "# calling second key\n",
    "print(t[\"key\"][\"nested key\"])\n",
    "# calling 3rd key\n",
    "print(t[\"key\"][\"nested key\"][\"sub-nested key\"])\n"
   ]
  },
  {
   "attachments": {},
   "cell_type": "markdown",
   "metadata": {},
   "source": [
    "A few Dictionary Methods"
   ]
  },
  {
   "cell_type": "code",
   "execution_count": 6,
   "metadata": {
    "ExecuteTime": {
     "end_time": "2024-06-10T09:55:14.699050800Z",
     "start_time": "2024-06-10T09:55:14.637045800Z"
    }
   },
   "outputs": [],
   "source": [
    "# There are a few methods that can be used\n",
    "# to call different characters in a dictionaries\n",
    "r={\"key 1\":1,\"key 2\":2,\"key 3\":3,\"key 4\":4}\n"
   ]
  },
  {
   "cell_type": "code",
   "execution_count": 7,
   "metadata": {
    "ExecuteTime": {
     "end_time": "2024-06-10T09:55:14.700047400Z",
     "start_time": "2024-06-10T09:55:14.653049500Z"
    }
   },
   "outputs": [
    {
     "name": "stdout",
     "output_type": "stream",
     "text": [
      "dict_keys(['key 1', 'key 2', 'key 3', 'key 4'])\n"
     ]
    }
   ],
   "source": [
    "# Method to return a list of all keys\n",
    "print(r.keys())"
   ]
  },
  {
   "cell_type": "code",
   "execution_count": 8,
   "metadata": {
    "ExecuteTime": {
     "end_time": "2024-06-10T09:55:14.702045800Z",
     "start_time": "2024-06-10T09:55:14.667048400Z"
    }
   },
   "outputs": [
    {
     "name": "stdout",
     "output_type": "stream",
     "text": [
      "dict_values([1, 2, 3, 4])\n"
     ]
    }
   ],
   "source": [
    "# Method to return a list of all values\n",
    "print(r.values())"
   ]
  },
  {
   "cell_type": "code",
   "execution_count": 9,
   "metadata": {
    "ExecuteTime": {
     "end_time": "2024-06-10T09:55:14.702045800Z",
     "start_time": "2024-06-10T09:55:14.683049Z"
    }
   },
   "outputs": [
    {
     "name": "stdout",
     "output_type": "stream",
     "text": [
      "dict_items([('key 1', 1), ('key 2', 2), ('key 3', 3), ('key 4', 4)])\n"
     ]
    }
   ],
   "source": [
    "# methods to return all items in the dictionary\n",
    "print(r.items())"
   ]
  },
  {
   "cell_type": "code",
   "execution_count": 10,
   "metadata": {
    "ExecuteTime": {
     "end_time": "2024-06-10T09:55:14.865043800Z",
     "start_time": "2024-06-10T09:55:14.698055900Z"
    }
   },
   "outputs": [
    {
     "data": {
      "text/plain": "'y=r.items()\\nprint(list(y))'"
     },
     "execution_count": 10,
     "metadata": {},
     "output_type": "execute_result"
    }
   ],
   "source": [
    "'''y=r.items()\n",
    "print(list(y))'''"
   ]
  }
 ],
 "metadata": {
  "kernelspec": {
   "display_name": "Python 3",
   "language": "python",
   "name": "python3"
  },
  "language_info": {
   "codemirror_mode": {
    "name": "ipython",
    "version": 3
   },
   "file_extension": ".py",
   "mimetype": "text/x-python",
   "name": "python",
   "nbconvert_exporter": "python",
   "pygments_lexer": "ipython3",
   "version": "3.10.7 (tags/v3.10.7:6cc6b13, Sep  5 2022, 14:08:36) [MSC v.1933 64 bit (AMD64)]"
  },
  "orig_nbformat": 4,
  "vscode": {
   "interpreter": {
    "hash": "9b663423dfea44173ff53198f30508ae619a2edd3dc7cd63f80518b6e4756024"
   }
  }
 },
 "nbformat": 4,
 "nbformat_minor": 2
}
