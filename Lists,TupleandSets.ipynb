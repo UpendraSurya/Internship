{
 "cells": [
  {
   "attachments": {},
   "cell_type": "markdown",
   "metadata": {},
   "source": [
    "Lists"
   ]
  },
  {
   "attachments": {},
   "cell_type": "markdown",
   "metadata": {},
   "source": [
    "Concatenation of Lists"
   ]
  },
  {
   "cell_type": "code",
   "execution_count": 1,
   "metadata": {
    "ExecuteTime": {
     "end_time": "2024-06-10T09:55:10.513760500Z",
     "start_time": "2024-06-10T09:55:10.492758800Z"
    }
   },
   "outputs": [],
   "source": [
    "# lists are similar to string but they can be mutable and concatenated easily\n",
    "list1=[\"One\",\"Two\",\"Three\"]"
   ]
  },
  {
   "cell_type": "code",
   "execution_count": 2,
   "metadata": {
    "ExecuteTime": {
     "end_time": "2024-06-10T09:55:10.536539500Z",
     "start_time": "2024-06-10T09:55:10.513760500Z"
    }
   },
   "outputs": [
    {
     "name": "stdout",
     "output_type": "stream",
     "text": [
      "['One', 'Two', 'Three', 'Four', 'Five']\n"
     ]
    }
   ],
   "source": [
    "# How to add 2 different lists?\n",
    "list2=[\"Four\",\"Five\"]\n",
    "new_list=list1+list2\n",
    "print(new_list)"
   ]
  },
  {
   "cell_type": "code",
   "execution_count": 3,
   "metadata": {
    "ExecuteTime": {
     "end_time": "2024-06-10T09:55:10.541532400Z",
     "start_time": "2024-06-10T09:55:10.527761100Z"
    }
   },
   "outputs": [
    {
     "name": "stdout",
     "output_type": "stream",
     "text": [
      "['One', 'Two', 'Three', 'Four', 'Five', 'Six']\n"
     ]
    }
   ],
   "source": [
    "# How to add a new element into a list?\n",
    "new_list.append(\"Six\")\n",
    "# append is used to add an element to list\n",
    "print(new_list)"
   ]
  },
  {
   "cell_type": "code",
   "execution_count": 4,
   "metadata": {
    "ExecuteTime": {
     "end_time": "2024-06-10T09:55:10.575153300Z",
     "start_time": "2024-06-10T09:55:10.542717700Z"
    }
   },
   "outputs": [
    {
     "name": "stdout",
     "output_type": "stream",
     "text": [
      "['One', 'Two', 'Three', 'Four', 'Five']\n"
     ]
    }
   ],
   "source": [
    "# How to remove an element in a list?\n",
    "new_list.pop()\n",
    "# pop is usedd to remove an element in a list\n",
    "print(new_list)"
   ]
  },
  {
   "cell_type": "code",
   "execution_count": 5,
   "metadata": {
    "ExecuteTime": {
     "end_time": "2024-06-10T09:55:10.577164100Z",
     "start_time": "2024-06-10T09:55:10.562729800Z"
    }
   },
   "outputs": [
    {
     "name": "stdout",
     "output_type": "stream",
     "text": [
      "['Two', 'Three', 'Four', 'Five']\n"
     ]
    }
   ],
   "source": [
    "# How to remove an element in a list based on the indexes?\n",
    "new_list.pop(0)\n",
    "print(new_list)"
   ]
  },
  {
   "cell_type": "code",
   "execution_count": 6,
   "metadata": {
    "ExecuteTime": {
     "end_time": "2024-06-10T09:55:10.605531300Z",
     "start_time": "2024-06-10T09:55:10.575153300Z"
    }
   },
   "outputs": [
    {
     "name": "stdout",
     "output_type": "stream",
     "text": [
      "Five\n"
     ]
    }
   ],
   "source": [
    "# Removed elements of list can be printed by using\n",
    "removed_items=new_list.pop()\n",
    "print(removed_items)"
   ]
  },
  {
   "cell_type": "code",
   "execution_count": 7,
   "metadata": {
    "ExecuteTime": {
     "end_time": "2024-06-10T09:55:10.607531100Z",
     "start_time": "2024-06-10T09:55:10.590529500Z"
    }
   },
   "outputs": [
    {
     "name": "stdout",
     "output_type": "stream",
     "text": [
      "['Two', 'Three', 'Four']\n",
      "['One', 'Two', 'Three']\n"
     ]
    }
   ],
   "source": [
    "print(new_list)\n",
    "'''How to mutate an element in a list? '''\n",
    "new_list[0]=\"One\"         # We are going to assign the value of element using assigning operator\n",
    "new_list[1]=\"Two\"\n",
    "new_list[2]=\"Three\"\n",
    "print(new_list)"
   ]
  },
  {
   "attachments": {},
   "cell_type": "markdown",
   "metadata": {},
   "source": [
    "Difference types of Functions in Lists"
   ]
  },
  {
   "cell_type": "code",
   "execution_count": 8,
   "metadata": {
    "ExecuteTime": {
     "end_time": "2024-06-10T09:55:10.637529200Z",
     "start_time": "2024-06-10T09:55:10.606529400Z"
    }
   },
   "outputs": [
    {
     "name": "stdout",
     "output_type": "stream",
     "text": [
      "['a', 'b', 'c', 'f', 'g', 'x']\n"
     ]
    }
   ],
   "source": [
    "lis1=[\"a\", \"b\",\"f\",\"c\",\"x\",\"g\"]\n",
    "'''  To sort the list in proper order we going to use a key word that \"sort\" ''' \n",
    "lis1.sort()\n",
    "print(lis1)"
   ]
  },
  {
   "cell_type": "code",
   "execution_count": 9,
   "metadata": {
    "ExecuteTime": {
     "end_time": "2024-06-10T09:55:10.640527700Z",
     "start_time": "2024-06-10T09:55:10.621533700Z"
    }
   },
   "outputs": [
    {
     "name": "stdout",
     "output_type": "stream",
     "text": [
      "['x', 'g', 'f', 'c', 'b', 'a']\n"
     ]
    }
   ],
   "source": [
    "'''To make the list print in  a reverse order we can use a key wprd called \"reverse\"'''\n",
    "lis1.reverse()\n",
    "print(lis1)"
   ]
  },
  {
   "cell_type": "code",
   "execution_count": 10,
   "metadata": {
    "ExecuteTime": {
     "end_time": "2024-06-10T09:55:10.665538100Z",
     "start_time": "2024-06-10T09:55:10.638529800Z"
    }
   },
   "outputs": [
    {
     "name": "stdout",
     "output_type": "stream",
     "text": [
      "['x', 'f', 'c', 'b', 'a']\n"
     ]
    }
   ],
   "source": [
    "'''To remove a certain element from the list , if we don't know the index value of the element '''\n",
    "lis1.remove(\"g\")\n",
    "print(lis1)"
   ]
  },
  {
   "cell_type": "markdown",
   "source": [
    "Sets"
   ],
   "metadata": {
    "collapsed": false
   }
  },
  {
   "cell_type": "code",
   "outputs": [],
   "source": [
    "# Using curly braces\n",
    "set_a = {1, 2, 3, 4}\n",
    "set_b = {3, 4, 5, 6}\n",
    "\n",
    "# Using the set() function\n",
    "set_c = set([1, 2, 2, 3])  # Duplicate elements are automatically removed\n"
   ],
   "metadata": {
    "collapsed": false,
    "ExecuteTime": {
     "end_time": "2024-06-10T09:55:10.668529Z",
     "start_time": "2024-06-10T09:55:10.654530700Z"
    }
   },
   "execution_count": 11
  },
  {
   "cell_type": "code",
   "outputs": [
    {
     "name": "stdout",
     "output_type": "stream",
     "text": [
      "{1, 2, 3, 4, 5, 6}\n"
     ]
    }
   ],
   "source": [
    "union_set = set_a | set_b\n",
    "# or\n",
    "union_set = set_a.union(set_b)\n",
    "print(union_set)  # Output: {1, 2, 3, 4, 5, 6}\n"
   ],
   "metadata": {
    "collapsed": false,
    "ExecuteTime": {
     "end_time": "2024-06-10T09:55:10.689562700Z",
     "start_time": "2024-06-10T09:55:10.669534Z"
    }
   },
   "execution_count": 12
  },
  {
   "cell_type": "code",
   "outputs": [
    {
     "name": "stdout",
     "output_type": "stream",
     "text": [
      "{3, 4}\n"
     ]
    }
   ],
   "source": [
    "intersection_set = set_a & set_b\n",
    "# or\n",
    "intersection_set = set_a.intersection(set_b)\n",
    "print(intersection_set)  # Output: {3, 4}\n"
   ],
   "metadata": {
    "collapsed": false,
    "ExecuteTime": {
     "end_time": "2024-06-10T09:55:10.709561700Z",
     "start_time": "2024-06-10T09:55:10.684561900Z"
    }
   },
   "execution_count": 13
  },
  {
   "cell_type": "code",
   "outputs": [
    {
     "name": "stdout",
     "output_type": "stream",
     "text": [
      "{1, 2}\n"
     ]
    }
   ],
   "source": [
    "difference_set = set_a - set_b\n",
    "# or\n",
    "difference_set = set_a.difference(set_b)\n",
    "print(difference_set)  # Output: {1, 2}\n"
   ],
   "metadata": {
    "collapsed": false,
    "ExecuteTime": {
     "end_time": "2024-06-10T09:55:10.729563500Z",
     "start_time": "2024-06-10T09:55:10.700567200Z"
    }
   },
   "execution_count": 14
  },
  {
   "cell_type": "code",
   "outputs": [
    {
     "name": "stdout",
     "output_type": "stream",
     "text": [
      "{1, 2, 5, 6}\n"
     ]
    }
   ],
   "source": [
    "sym_diff_set = set_a ^ set_b\n",
    "# or\n",
    "sym_diff_set = set_a.symmetric_difference(set_b)\n",
    "print(sym_diff_set)  # Output: {1, 2, 5, 6}\n"
   ],
   "metadata": {
    "collapsed": false,
    "ExecuteTime": {
     "end_time": "2024-06-10T09:55:10.731562500Z",
     "start_time": "2024-06-10T09:55:10.719562800Z"
    }
   },
   "execution_count": 15
  },
  {
   "cell_type": "code",
   "outputs": [
    {
     "name": "stdout",
     "output_type": "stream",
     "text": [
      "{1, 2, 3, 4, 5}\n"
     ]
    }
   ],
   "source": [
    "set_a.add(5)\n",
    "print(set_a)  # Output: {1, 2, 3, 4, 5}\n"
   ],
   "metadata": {
    "collapsed": false,
    "ExecuteTime": {
     "end_time": "2024-06-10T09:55:10.762567200Z",
     "start_time": "2024-06-10T09:55:10.732562300Z"
    }
   },
   "execution_count": 16
  },
  {
   "cell_type": "code",
   "outputs": [
    {
     "name": "stdout",
     "output_type": "stream",
     "text": [
      "{1, 2, 3, 4}\n"
     ]
    }
   ],
   "source": [
    "set_a.remove(5)\n",
    "# or\n",
    "set_a.discard(5)\n",
    "print(set_a)  # Output: {1, 2, 3, 4}\n"
   ],
   "metadata": {
    "collapsed": false,
    "ExecuteTime": {
     "end_time": "2024-06-10T09:55:10.764562400Z",
     "start_time": "2024-06-10T09:55:10.748571600Z"
    }
   },
   "execution_count": 17
  },
  {
   "cell_type": "code",
   "outputs": [
    {
     "name": "stdout",
     "output_type": "stream",
     "text": [
      "True\n",
      "False\n"
     ]
    }
   ],
   "source": [
    "print(3 in set_a)  # Output: True\n",
    "print(5 in set_a)  # Output: False\n"
   ],
   "metadata": {
    "collapsed": false,
    "ExecuteTime": {
     "end_time": "2024-06-10T09:55:10.793010900Z",
     "start_time": "2024-06-10T09:55:10.764562400Z"
    }
   },
   "execution_count": 18
  },
  {
   "cell_type": "code",
   "outputs": [
    {
     "name": "stdout",
     "output_type": "stream",
     "text": [
      "{0, 2, 4, 6, 8}\n"
     ]
    }
   ],
   "source": [
    "set_d = {x for x in range(10) if x % 2 == 0}\n",
    "print(set_d)  # Output: {0, 2, 4, 6, 8}\n"
   ],
   "metadata": {
    "collapsed": false,
    "ExecuteTime": {
     "end_time": "2024-06-10T09:55:10.795010900Z",
     "start_time": "2024-06-10T09:55:10.780011100Z"
    }
   },
   "execution_count": 19
  },
  {
   "cell_type": "code",
   "outputs": [
    {
     "name": "stdout",
     "output_type": "stream",
     "text": [
      "False\n",
      "False\n"
     ]
    }
   ],
   "source": [
    "print(set_a <= set_b)  # Output: False\n",
    "# or\n",
    "print(set_a.issubset(set_b))  # Output: False\n"
   ],
   "metadata": {
    "collapsed": false,
    "ExecuteTime": {
     "end_time": "2024-06-10T09:55:10.824828900Z",
     "start_time": "2024-06-10T09:55:10.795010900Z"
    }
   },
   "execution_count": 20
  },
  {
   "cell_type": "code",
   "outputs": [
    {
     "name": "stdout",
     "output_type": "stream",
     "text": [
      "False\n",
      "False\n"
     ]
    }
   ],
   "source": [
    "print(set_a >= set_b)  # Output: False\n",
    "# or\n",
    "print(set_a.issuperset(set_b))  # Output: False\n"
   ],
   "metadata": {
    "collapsed": false,
    "ExecuteTime": {
     "end_time": "2024-06-10T09:55:10.825824900Z",
     "start_time": "2024-06-10T09:55:10.810418100Z"
    }
   },
   "execution_count": 21
  },
  {
   "cell_type": "code",
   "outputs": [
    {
     "name": "stdout",
     "output_type": "stream",
     "text": [
      "False\n"
     ]
    }
   ],
   "source": [
    "print(set_a.isdisjoint(set_b))  # Output: False\n"
   ],
   "metadata": {
    "collapsed": false,
    "ExecuteTime": {
     "end_time": "2024-06-10T09:55:10.876920Z",
     "start_time": "2024-06-10T09:55:10.827275900Z"
    }
   },
   "execution_count": 22
  },
  {
   "cell_type": "markdown",
   "source": [
    "Tuples"
   ],
   "metadata": {
    "collapsed": false
   }
  },
  {
   "cell_type": "code",
   "outputs": [
    {
     "name": "stdout",
     "output_type": "stream",
     "text": [
      "(1, 2, 3, 4, 5)\n",
      "(1, 2, 3, 4, 5)\n"
     ]
    }
   ],
   "source": [
    "my_tuple = (1, 2, 3, 4, 5)\n",
    "\n",
    "\n",
    "# Methods:\n",
    "\n",
    "# count(item): Returns the number of occurrences of the item.\n",
    "count = my_tuple.count(2)\n",
    "print(my_tuple)\n",
    "\n",
    "# index(item, start, end): Returns the index of the first occurrence of the item.\n",
    "idx = my_tuple.index(3)\n",
    "print(my_tuple)"
   ],
   "metadata": {
    "collapsed": false,
    "ExecuteTime": {
     "end_time": "2024-06-10T09:55:10.877931200Z",
     "start_time": "2024-06-10T09:55:10.844889900Z"
    }
   },
   "execution_count": 23
  }
 ],
 "metadata": {
  "kernelspec": {
   "display_name": "Python 3",
   "language": "python",
   "name": "python3"
  },
  "language_info": {
   "codemirror_mode": {
    "name": "ipython",
    "version": 3
   },
   "file_extension": ".py",
   "mimetype": "text/x-python",
   "name": "python",
   "nbconvert_exporter": "python",
   "pygments_lexer": "ipython3",
   "version": "3.10.7 (tags/v3.10.7:6cc6b13, Sep  5 2022, 14:08:36) [MSC v.1933 64 bit (AMD64)]"
  },
  "orig_nbformat": 4,
  "vscode": {
   "interpreter": {
    "hash": "9b663423dfea44173ff53198f30508ae619a2edd3dc7cd63f80518b6e4756024"
   }
  }
 },
 "nbformat": 4,
 "nbformat_minor": 2
}
