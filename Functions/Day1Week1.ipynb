{
 "cells": [
  {
   "cell_type": "markdown",
   "source": [
    " ## Python Exercises Problems"
   ],
   "metadata": {
    "collapsed": false
   },
   "id": "3aeb71ace7bd5d69"
  },
  {
   "cell_type": "markdown",
   "source": [
    "#### Area Calculator:"
   ],
   "metadata": {
    "collapsed": false
   },
   "id": "5c2ede321ba8a0c2"
  },
  {
   "cell_type": "markdown",
   "source": [
    "*Create a function Calculate_area(shape, dimensions) that takes the shape (e.g., \"rectangle\", \"circle\") and its dimensions as arguments.\n",
    "*The function should calculate the area based on the shape and return the result.\n",
    "*Implement logic for handling different shapes (rectangle, circle) and their corresponding dimensions (length, width for rectangle; radius for circle)."
   ],
   "metadata": {
    "collapsed": false
   },
   "id": "e4c158055fda254a"
  },
  {
   "cell_type": "code",
   "outputs": [],
   "source": [
    "import math\n",
    "def AreaCal(shape,dim):\n",
    "    if shape =='rectangle':\n",
    "        if dim !=2:\n",
    "            print(\"Please enter vaild dimension\")\n",
    "        else:\n",
    "            l=float(input())\n",
    "            w=float(input())\n",
    "            return l*w\n",
    "    elif shape =='circle':\n",
    "        if dim!=1:\n",
    "            print(\"Please enter vaild dimension\")\n",
    "        else:\n",
    "            r=float(input())\n",
    "            return math.pi*r*r\n",
    "    elif shape =='triangle':\n",
    "        if dim!=2:\n",
    "            print(\"Please enter vaild dimension\")\n",
    "        else:\n",
    "            h=float(input())\n",
    "            b=float(input())\n",
    "            return h*b*0.5\n",
    "    else:\n",
    "        print(\"INVALID SHAPE\")\n",
    "    \n",
    "shape=input(\"Enter the shape you want to calculate\") \n",
    "dim=int(input(\"\"))\n",
    "result=AreaCal(shape,dim)\n",
    "print(result)"
   ],
   "metadata": {
    "collapsed": false
   },
   "id": "1d8c54dad15522de",
   "execution_count": null
  },
  {
   "cell_type": "markdown",
   "source": [
    "#### String Manipulation\n",
    "\n",
    "Create a function reverse_words(text) that takes a string as input.\n",
    "The function should reverse the order of words in the string while maintaining the order of characters within each word. -Return the modified string."
   ],
   "metadata": {
    "collapsed": false
   },
   "id": "2bf80a7d70909978"
  },
  {
   "cell_type": "code",
   "outputs": [],
   "source": [
    "def reverse_text(text):\n",
    "    reversed_text = text[::-1]\n",
    "    return reversed_text\n",
    "\n",
    "text = \"hello\"\n",
    "reversed_text = reverse_text(text)\n",
    "print(reversed_text)\n",
    "\n"
   ],
   "metadata": {
    "collapsed": false
   },
   "id": "a4e97e94320d5a78",
   "execution_count": null
  },
  {
   "cell_type": "markdown",
   "source": [
    "#### List Statistics\n",
    "\n",
    "Create a function analyze_list(numbers) that takes a list of numbers as input.\n",
    "The function should calculate and return the following in a dictionary:\n",
    "Minimum value in the list\n",
    "Maximum value in the list\n",
    "Average value in the list (use sum and division)\n",
    "Use a dictionary to store and return the calculated statistics.\n",
    "Hint: Utilize built-in functions like min, max, and sum for calculations."
   ],
   "metadata": {
    "collapsed": false
   },
   "id": "5862b35df54d1955"
  },
  {
   "cell_type": "code",
   "outputs": [],
   "source": [
    "def numbers(num):\n",
    "    maxi=max(num)\n",
    "    miin=min(num)\n",
    "    average=sum(num)/len(num)\n",
    "    \n",
    "    return {'min':miin,'max':maxi,'Average':average}\n",
    "\n",
    "num=[1,2,3,4,5,6,7,8,9,10]\n",
    "numbers=numbers(num)\n",
    "print(numbers)"
   ],
   "metadata": {
    "collapsed": false
   },
   "id": "713b20f8ce23fb12",
   "execution_count": null
  },
  {
   "cell_type": "markdown",
   "source": [
    "#### Filter with lamda\n",
    "\n",
    "Create a list of product names (strings).\n",
    "Define a function filter_short_names(names, max_length) that takes the list of names and a maximum length as arguments.\n",
    "Use filter with a lambda function to return a new list containing only names shorter than the provided max_length."
   ],
   "metadata": {
    "collapsed": false
   },
   "id": "f76ad2f31d17377b"
  },
  {
   "cell_type": "code",
   "outputs": [],
   "source": [
    "\n",
    "def filtering(names,max_length):\n",
    "    return list(filter(lambda name: len(name)<=max_length,names))\n",
    "\n",
    "names_k=[\"John\",\"Smith\",\"yuva\",\"alex\",\"narayana\"]\n",
    "short_ee=filtering(names_k,4)\n",
    "print(short_ee)"
   ],
   "metadata": {
    "collapsed": false
   },
   "id": "99eeed053ddc589f",
   "execution_count": null
  },
  {
   "cell_type": "code",
   "outputs": [],
   "source": [],
   "metadata": {
    "collapsed": false
   },
   "id": "bc3b3bd348b07bfc",
   "execution_count": null
  },
  {
   "cell_type": "code",
   "outputs": [],
   "source": [],
   "metadata": {
    "collapsed": false
   },
   "id": "691a82284680d965",
   "execution_count": null
  },
  {
   "cell_type": "code",
   "outputs": [],
   "source": [],
   "metadata": {
    "collapsed": false
   },
   "id": "2a1c9afdc1953334",
   "execution_count": null
  },
  {
   "cell_type": "code",
   "outputs": [],
   "source": [],
   "metadata": {
    "collapsed": false
   },
   "id": "49e559c865fc2f70",
   "execution_count": null
  }
 ],
 "metadata": {
  "kernelspec": {
   "display_name": "Python 3",
   "language": "python",
   "name": "python3"
  },
  "language_info": {
   "codemirror_mode": {
    "name": "ipython",
    "version": 2
   },
   "file_extension": ".py",
   "mimetype": "text/x-python",
   "name": "python",
   "nbconvert_exporter": "python",
   "pygments_lexer": "ipython2",
   "version": "2.7.6"
  }
 },
 "nbformat": 4,
 "nbformat_minor": 5
}
