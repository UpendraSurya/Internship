{
 "cells": [
  {
   "cell_type": "code",
   "execution_count": 1,
   "id": "initial_id",
   "metadata": {
    "collapsed": true,
    "ExecuteTime": {
     "end_time": "2024-06-25T10:39:20.519464Z",
     "start_time": "2024-06-25T10:39:20.416465200Z"
    }
   },
   "outputs": [],
   "source": [
    "import numpy as np"
   ]
  },
  {
   "cell_type": "markdown",
   "source": [
    "1. Basic Operations:"
   ],
   "metadata": {
    "collapsed": false
   },
   "id": "2ddc4b68e21fbfdd"
  },
  {
   "cell_type": "code",
   "outputs": [
    {
     "name": "stdout",
     "output_type": "stream",
     "text": [
      "[0 1 2 3 4 5 6 7 8 9]\n"
     ]
    }
   ],
   "source": [
    "arr=np.arange(0,10)\n",
    "print(arr)"
   ],
   "metadata": {
    "collapsed": false,
    "ExecuteTime": {
     "end_time": "2024-06-25T10:39:56.606544Z",
     "start_time": "2024-06-25T10:39:56.589547500Z"
    }
   },
   "id": "ec7c618e9c6d76df",
   "execution_count": 2
  },
  {
   "cell_type": "code",
   "outputs": [
    {
     "name": "stdout",
     "output_type": "stream",
     "text": [
      "[[0.64423486 0.84082805 0.41283742]\n",
      " [0.16014181 0.95052178 0.24899689]\n",
      " [0.42259927 0.93969172 0.11300156]]\n"
     ]
    }
   ],
   "source": [
    "arr2=np.random.rand(3,3)#here we are creating a 2d array with 3 and 3 \n",
    "print(arr2)"
   ],
   "metadata": {
    "collapsed": false,
    "ExecuteTime": {
     "end_time": "2024-06-25T10:45:31.357349200Z",
     "start_time": "2024-06-25T10:45:31.346344800Z"
    }
   },
   "id": "a2ef686d31ad8927",
   "execution_count": 4
  },
  {
   "cell_type": "code",
   "outputs": [
    {
     "name": "stdout",
     "output_type": "stream",
     "text": [
      "[[1. 0. 0.]\n",
      " [0. 1. 0.]\n",
      " [0. 0. 1.]]\n"
     ]
    }
   ],
   "source": [
    "identity_matrix=np.eye(3)# eye function is used to create a 2d array with ones on the diagonal and zeros elsewhere\n",
    "print(identity_matrix)"
   ],
   "metadata": {
    "collapsed": false,
    "ExecuteTime": {
     "end_time": "2024-06-25T10:45:29.273799200Z",
     "start_time": "2024-06-25T10:45:29.265800Z"
    }
   },
   "id": "295d982e3d6935dc",
   "execution_count": 3
  },
  {
   "cell_type": "code",
   "outputs": [
    {
     "name": "stdout",
     "output_type": "stream",
     "text": [
      "[[0. 1. 0.]\n",
      " [0. 0. 1.]\n",
      " [0. 0. 0.]]\n"
     ]
    }
   ],
   "source": [
    "identity_matrix2=np.eye(3,k=1)#here we have to create a identity matrix of size 3 x 3 with main diagonal shifted by 1\n",
    "print(identity_matrix2)"
   ],
   "metadata": {
    "collapsed": false,
    "ExecuteTime": {
     "end_time": "2024-06-25T10:49:27.015614800Z",
     "start_time": "2024-06-25T10:49:27.000608200Z"
    }
   },
   "id": "47ef01abb0dd8a84",
   "execution_count": 5
  },
  {
   "cell_type": "markdown",
   "source": [
    "2. Array Manipulations:"
   ],
   "metadata": {
    "collapsed": false
   },
   "id": "fd3456926ee51ff5"
  },
  {
   "cell_type": "code",
   "outputs": [
    {
     "name": "stdout",
     "output_type": "stream",
     "text": [
      "[0 1 2 3 4 5]\n",
      "[[0 1]\n",
      " [2 3]\n",
      " [4 5]]\n"
     ]
    }
   ],
   "source": [
    "arr_1d=np.arange(6)\n",
    "print(arr_1d)\n",
    "#reshaping hr array from 1d to 2d\n",
    "arr_2d=np.reshape(arr_1d,(3,2))\n",
    "print(arr_2d)"
   ],
   "metadata": {
    "collapsed": false,
    "ExecuteTime": {
     "end_time": "2024-06-25T10:55:22.634369Z",
     "start_time": "2024-06-25T10:55:22.622303500Z"
    }
   },
   "id": "49bc8d421e4784d7",
   "execution_count": 6
  },
  {
   "cell_type": "code",
   "outputs": [
    {
     "name": "stdout",
     "output_type": "stream",
     "text": [
      "[0 1 2 3 4 5]\n"
     ]
    }
   ],
   "source": [
    "#now we will have to flatten the arr_2d to arr1d.\n",
    "arr1d_flatten=arr_2d.flatten()\n",
    "print(arr1d_flatten)"
   ],
   "metadata": {
    "collapsed": false,
    "ExecuteTime": {
     "end_time": "2024-06-25T10:58:13.536306900Z",
     "start_time": "2024-06-25T10:58:13.510303100Z"
    }
   },
   "id": "46f727dc7c81812b",
   "execution_count": 7
  },
  {
   "cell_type": "code",
   "outputs": [
    {
     "name": "stdout",
     "output_type": "stream",
     "text": [
      "[ 1  2  3  3  4  5  6  7 20  3  0 44  2 22]\n"
     ]
    }
   ],
   "source": [
    "aarray=np.array([1,2,3,3,4,5,6,7])\n",
    "Aarray=np.array([20,3,0,44,2,22])\n",
    "#here we are going to concatenate.\n",
    "concatenated_array=np.concatenate((aarray,Aarray))\n",
    "print(concatenated_array)"
   ],
   "metadata": {
    "collapsed": false,
    "ExecuteTime": {
     "end_time": "2024-06-25T11:01:16.617461700Z",
     "start_time": "2024-06-25T11:01:16.599348100Z"
    }
   },
   "id": "c53cd76504215cc4",
   "execution_count": 8
  },
  {
   "cell_type": "code",
   "outputs": [
    {
     "name": "stdout",
     "output_type": "stream",
     "text": [
      "[4 5 6 7]\n"
     ]
    }
   ],
   "source": [
    "# Create a 2D array\n",
    "array_2d = np.array([[0, 1, 2, 3],\n",
    "                     [4, 5, 6, 7],\n",
    "                     [8, 9, 10, 11]])\n",
    "\n",
    "# Extract the elements of the second row\n",
    "second_row = array_2d[1]\n",
    "print(second_row)"
   ],
   "metadata": {
    "collapsed": false,
    "ExecuteTime": {
     "end_time": "2024-06-25T11:04:27.864494900Z",
     "start_time": "2024-06-25T11:04:27.851395200Z"
    }
   },
   "id": "5f5e30711a8bd34b",
   "execution_count": 9
  },
  {
   "cell_type": "code",
   "outputs": [
    {
     "name": "stdout",
     "output_type": "stream",
     "text": [
      "[ 2  6 10]\n"
     ]
    }
   ],
   "source": [
    "# Extract the elements of the third column\n",
    "third_column = array_2d[:, 2]\n",
    "print(third_column)"
   ],
   "metadata": {
    "collapsed": false,
    "ExecuteTime": {
     "end_time": "2024-06-25T11:05:41.137784500Z",
     "start_time": "2024-06-25T11:05:41.114783300Z"
    }
   },
   "id": "9b9f803b84be1f62",
   "execution_count": 10
  },
  {
   "cell_type": "code",
   "outputs": [
    {
     "name": "stdout",
     "output_type": "stream",
     "text": [
      "[[ 6  7]\n",
      " [10 11]]\n"
     ]
    }
   ],
   "source": [
    "# Create a 4x4 matrix\n",
    "matrix_4x4 = np.array([[ 1,  2,  3,  4],\n",
    "                       [ 5,  6,  7,  8],\n",
    "                       [ 9, 10, 11, 12],\n",
    "                       [13, 14, 15, 16]])\n",
    "\n",
    "# Extract a 2x2 sub-matrix from the center\n",
    "sub_matrix = matrix_4x4[1:3, 1:3]\n",
    "print(sub_matrix)"
   ],
   "metadata": {
    "collapsed": false,
    "ExecuteTime": {
     "end_time": "2024-06-25T11:06:36.839407100Z",
     "start_time": "2024-06-25T11:06:36.810409200Z"
    }
   },
   "id": "3870329812d5f9d2",
   "execution_count": 11
  },
  {
   "cell_type": "markdown",
   "source": [
    "3. Mathematical Operations:"
   ],
   "metadata": {
    "collapsed": false
   },
   "id": "fa2b7f22a0e4cb19"
  },
  {
   "cell_type": "code",
   "outputs": [
    {
     "name": "stdout",
     "output_type": "stream",
     "text": [
      "[[ 8 10 12]\n",
      " [14 16 18]]\n",
      "[[-6 -6 -6]\n",
      " [-6 -6 -6]]\n",
      "[[ 7 16 27]\n",
      " [40 55 72]]\n",
      "[[0.14285714 0.25       0.33333333]\n",
      " [0.4        0.45454545 0.5       ]]\n"
     ]
    }
   ],
   "source": [
    "operation_array1=np.array([[1,2,3],[4,5,6]])\n",
    "operation_array2=np.array([[7,8,9],[10,11,12]])\n",
    "\n",
    "# element addition\n",
    "addition_matrix=operation_array1+operation_array2\n",
    "print(addition_matrix)\n",
    "\n",
    "# element subtraction\n",
    "subtraction_matrix=operation_array1-operation_array2\n",
    "print(subtraction_matrix)\n",
    "\n",
    "# element multiplication\n",
    "multiplication_matrix=operation_array1*operation_array2\n",
    "print(multiplication_matrix)\n",
    "\n",
    "# element division\n",
    "division_matrix=operation_array1/operation_array2\n",
    "print(division_matrix)"
   ],
   "metadata": {
    "collapsed": false,
    "ExecuteTime": {
     "end_time": "2024-06-25T11:11:25.597601900Z",
     "start_time": "2024-06-25T11:11:25.574602200Z"
    }
   },
   "id": "2295daa4e89d85cb",
   "execution_count": 12
  },
  {
   "cell_type": "code",
   "outputs": [
    {
     "name": "stdout",
     "output_type": "stream",
     "text": [
      "Sum of elements: 15\n",
      "Mean of elements: 3.0\n",
      "Standard deviation of elements: 1.4142135623730951\n"
     ]
    }
   ],
   "source": [
    "# Create an array of numbers\n",
    "array = np.array([1, 2, 3, 4, 5])\n",
    "\n",
    "# Calculate sum\n",
    "sum_array = np.sum(array)\n",
    "print(\"Sum of elements:\", sum_array)\n",
    "\n",
    "# Calculate mean\n",
    "mean_array = np.mean(array)\n",
    "print(\"Mean of elements:\", mean_array)\n",
    "\n",
    "# Calculate standard deviation\n",
    "std_dev_array = np.std(array)\n",
    "print(\"Standard deviation of elements:\", std_dev_array)\n"
   ],
   "metadata": {
    "collapsed": false,
    "ExecuteTime": {
     "end_time": "2024-06-25T11:13:28.294249Z",
     "start_time": "2024-06-25T11:13:28.286237900Z"
    }
   },
   "id": "fe992e7d1b09610f",
   "execution_count": 13
  },
  {
   "cell_type": "code",
   "outputs": [
    {
     "name": "stdout",
     "output_type": "stream",
     "text": [
      "[[5 6 2 4 4]\n",
      " [6 7 4 9 7]\n",
      " [9 2 5 8 2]\n",
      " [9 6 5 2 6]\n",
      " [9 5 4 2 7]]\n",
      "[21 33 26 28 27]\n",
      "[38 26 20 25 26]\n"
     ]
    }
   ],
   "source": [
    "# Create a random 2D array of shape (5, 5)\n",
    "array_2d = np.random.randint(1, 10, size=(5, 5))\n",
    "print(array_2d)\n",
    "\n",
    "# Compute sum along each row\n",
    "sum_along_rows = np.sum(array_2d, axis=1)\n",
    "print(sum_along_rows)\n",
    "\n",
    "# Compute sum along each column\n",
    "sum_along_columns = np.sum(array_2d, axis=0)\n",
    "print(sum_along_columns)\n"
   ],
   "metadata": {
    "collapsed": false,
    "ExecuteTime": {
     "end_time": "2024-06-25T11:14:31.087488700Z",
     "start_time": "2024-06-25T11:14:31.075456800Z"
    }
   },
   "id": "95d4e46793d1ea69",
   "execution_count": 14
  },
  {
   "cell_type": "markdown",
   "source": [],
   "metadata": {
    "collapsed": false
   },
   "id": "8b91ce85adfbe380"
  },
  {
   "cell_type": "code",
   "outputs": [
    {
     "name": "stdout",
     "output_type": "stream",
     "text": [
      "\n",
      "Random Array:\n",
      "[[45 42 43 19 47]\n",
      " [16 48  6 39  3]\n",
      " [19 41 27 31 42]\n",
      " [17 33 44  8 41]\n",
      " [38 18 43 33  2]]\n",
      "\n",
      "Sorted along rows:\n",
      "[[19 42 43 45 47]\n",
      " [ 3  6 16 39 48]\n",
      " [19 27 31 41 42]\n",
      " [ 8 17 33 41 44]\n",
      " [ 2 18 33 38 43]]\n",
      "\n",
      "Sorted along columns:\n",
      "[[16 18  6  8  2]\n",
      " [17 33 27 19  3]\n",
      " [19 41 43 31 41]\n",
      " [38 42 43 33 42]\n",
      " [45 48 44 39 47]]\n"
     ]
    }
   ],
   "source": [
    "# Generate a random array of shape (5, 5)\n",
    "random_array = np.random.randint(1, 50, size=(5, 5))\n",
    "print(\"\\nRandom Array:\")\n",
    "print(random_array)\n",
    "\n",
    "# Sort along rows\n",
    "sorted_rows = np.sort(random_array, axis=1)\n",
    "print(\"\\nSorted along rows:\")\n",
    "print(sorted_rows)\n",
    "\n",
    "# Sort along columns\n",
    "sorted_columns = np.sort(random_array, axis=0)\n",
    "print(\"\\nSorted along columns:\")\n",
    "print(sorted_columns)\n"
   ],
   "metadata": {
    "collapsed": false,
    "ExecuteTime": {
     "end_time": "2024-06-25T11:15:04.384995200Z",
     "start_time": "2024-06-25T11:15:04.368995600Z"
    }
   },
   "id": "f4913a6e0d7771ed",
   "execution_count": 15
  },
  {
   "cell_type": "code",
   "outputs": [
    {
     "name": "stdout",
     "output_type": "stream",
     "text": [
      "\n",
      "Resulting 2D array after broadcasting:\n",
      "[[11 12 13]\n",
      " [24 25 26]\n",
      " [37 38 39]]\n"
     ]
    }
   ],
   "source": [
    "# Create a 2D array\n",
    "array_2d = np.array([[1, 2, 3],\n",
    "                     [4, 5, 6],\n",
    "                     [7, 8, 9]])\n",
    "\n",
    "# Create a 1D array to add to each row\n",
    "add_array = np.array([10, 20, 30])\n",
    "\n",
    "# Use broadcasting to add add_array to each row of array_2d\n",
    "result_array = array_2d + add_array[:, np.newaxis]\n",
    "print(result_array)\n"
   ],
   "metadata": {
    "collapsed": false,
    "ExecuteTime": {
     "end_time": "2024-06-25T11:15:22.144470400Z",
     "start_time": "2024-06-25T11:15:22.127457700Z"
    }
   },
   "id": "d4797ba187099d99",
   "execution_count": 16
  },
  {
   "cell_type": "code",
   "outputs": [],
   "source": [],
   "metadata": {
    "collapsed": false
   },
   "id": "796e30746dd0cea3"
  }
 ],
 "metadata": {
  "kernelspec": {
   "display_name": "Python 3",
   "language": "python",
   "name": "python3"
  },
  "language_info": {
   "codemirror_mode": {
    "name": "ipython",
    "version": 2
   },
   "file_extension": ".py",
   "mimetype": "text/x-python",
   "name": "python",
   "nbconvert_exporter": "python",
   "pygments_lexer": "ipython2",
   "version": "2.7.6"
  }
 },
 "nbformat": 4,
 "nbformat_minor": 5
}
