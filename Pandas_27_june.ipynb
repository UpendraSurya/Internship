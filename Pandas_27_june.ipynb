{
 "cells": [
  {
   "cell_type": "code",
   "outputs": [
    {
     "name": "stdout",
     "output_type": "stream",
     "text": [
      "Series from list:\n",
      "a    10\n",
      "b    20\n",
      "c    30\n",
      "d    40\n",
      "dtype: int64\n"
     ]
    }
   ],
   "source": [
    "import pandas as pd\n",
    "import numpy as np\n",
    "# Create a Series from a list\n",
    "data = [10, 20, 30, 40]\n",
    "s = pd.Series(data, index=[\"a\", \"b\", \"c\", \"d\"])\n",
    "print(\"Series from list:\")\n",
    "print(s)\n"
   ],
   "metadata": {
    "collapsed": false,
    "ExecuteTime": {
     "end_time": "2024-06-27T13:57:46.100920800Z",
     "start_time": "2024-06-27T13:57:44.692022600Z"
    }
   },
   "id": "abf0174790c9de2f",
   "execution_count": 1
  },
  {
   "cell_type": "code",
   "outputs": [
    {
     "name": "stdout",
     "output_type": "stream",
     "text": [
      "Series from array:\n",
      "x    1.1\n",
      "y    2.2\n",
      "z    3.3\n",
      "w    4.4\n",
      "dtype: float64\n"
     ]
    }
   ],
   "source": [
    "# Create a Series from a NumPy array\n",
    "array_data = np.array([1.1, 2.2, 3.3, 4.4])\n",
    "s_from_array = pd.Series(array_data, index=[\"x\", \"y\", \"z\", \"w\"])\n",
    "print(\"Series from array:\")\n",
    "print(s_from_array)\n"
   ],
   "metadata": {
    "collapsed": false,
    "ExecuteTime": {
     "end_time": "2024-06-27T13:57:46.139921600Z",
     "start_time": "2024-06-27T13:57:46.103920900Z"
    }
   },
   "id": "e16d802b5c3c60d8",
   "execution_count": 2
  },
  {
   "cell_type": "code",
   "outputs": [
    {
     "name": "stdout",
     "output_type": "stream",
     "text": [
      "Series from dictionary:\n",
      "Apple     100\n",
      "Banana    200\n",
      "Cherry    300\n",
      "dtype: int64\n"
     ]
    }
   ],
   "source": [
    "# Create a Series from a dictionary\n",
    "dict_data = {\"Apple\": 100, \"Banana\": 200, \"Cherry\": 300}\n",
    "s_from_dict = pd.Series(dict_data)\n",
    "print(\"Series from dictionary:\")\n",
    "print(s_from_dict)\n"
   ],
   "metadata": {
    "collapsed": false,
    "ExecuteTime": {
     "end_time": "2024-06-27T13:57:46.140920700Z",
     "start_time": "2024-06-27T13:57:46.121921Z"
    }
   },
   "id": "cfcd78f53ab3fd24",
   "execution_count": 3
  },
  {
   "cell_type": "code",
   "outputs": [
    {
     "name": "stdout",
     "output_type": "stream",
     "text": [
      "Index: Index(['a', 'b', 'c', 'd'], dtype='object')\n",
      "Values: [10 20 30 40]\n",
      "Data type: int64\n",
      "Size: 4\n",
      "First two elements: a    10\n",
      "b    20\n",
      "dtype: int64\n",
      "Last two elements: c    30\n",
      "d    40\n",
      "dtype: int64\n",
      "Sorted values: a    10\n",
      "b    20\n",
      "c    30\n",
      "d    40\n",
      "dtype: int64\n",
      "Mean of the Series: 25.0\n"
     ]
    }
   ],
   "source": [
    "print(\"Index:\", s.index)\n",
    "print(\"Values:\", s.values)\n",
    "print(\"Data type:\", s.dtype)\n",
    "print(\"Size:\", s.size)\n",
    "print(\"First two elements:\", s.head(2))\n",
    "print(\"Last two elements:\", s.tail(2))\n",
    "print(\"Sorted values:\", s.sort_values())\n",
    "print(\"Mean of the Series:\", s.mean())\n"
   ],
   "metadata": {
    "collapsed": false,
    "ExecuteTime": {
     "end_time": "2024-06-27T13:57:46.166984500Z",
     "start_time": "2024-06-27T13:57:46.135927Z"
    }
   },
   "id": "71c0e56be2a2fccd",
   "execution_count": 4
  },
  {
   "cell_type": "code",
   "outputs": [],
   "source": [
    "data = [5, 10, 15, 20, 25]\n",
    "s = pd.Series(data, index=[\"a\", \"b\", \"c\", \"d\", \"e\"])\n",
    "print(\"Original Series:\")\n",
    "print(s)\n",
    "\n",
    "print(\"Series after addition:\")\n",
    "print(s + 5)\n",
    "\n",
    "print(\"Series after multiplication:\")\n",
    "print(s * 2)\n",
    "\n",
    "print(\"Elements greater than 10:\")\n",
    "print(s[s > 10])\n",
    "def square(x):\n",
    "    return x * x\n",
    "\n",
    "print(\"Series after applying function:\")\n",
    "print(s.apply(square))\n",
    "\n"
   ],
   "metadata": {
    "collapsed": false
   },
   "id": "3b1886a81d1f7d3c"
  },
  {
   "cell_type": "code",
   "outputs": [],
   "source": [
    "data = {\n",
    "    \"Name\": [\"Amit\", \"Rahul\", \"Priya\", \"Sneha\"],\n",
    "    \"Age\": [24, 27, 22, 32],\n",
    "    \"City\": [\"Delhi\", \"Mumbai\", \"Bangalore\", \"Chennai\"]\n",
    "}\n",
    "df = pd.DataFrame(data)\n",
    "print(\"Original DataFrame:\")\n",
    "print(df)\n",
    "# Select a column\n",
    "print(\"Select Age column:\")\n",
    "print(df[\"Age\"])\n",
    "\n",
    "# Select multiple columns\n",
    "print(\"Select Name and City columns:\")\n",
    "print(df[[\"Name\", \"City\"]])\n",
    "\n",
    "# Select rows by index\n",
    "print(\"Select first two rows:\")\n",
    "print(df.iloc[:2])\n",
    "\n",
    "# Select rows by condition\n",
    "print(\"Select rows where Age > 25:\")\n",
    "print(df[df[\"Age\"] > 25])\n",
    "# Add a new column\n",
    "df[\"Salary\"] = [50000, 60000, 55000, 70000]\n",
    "print(\"DataFrame after adding Salary column:\")\n",
    "print(df)\n",
    "\n",
    "# Drop a column\n",
    "df = df.drop(\"City\", axis=1)\n",
    "print(\"DataFrame after dropping City column:\")\n",
    "print(df)\n",
    "# Create a DataFrame with missing values\n",
    "data = {\n",
    "    \"A\": [1, 2, None, 4],\n",
    "    \"B\": [None, 2, 3, 4],\n",
    "    \"C\": [1, None, None, 4]\n",
    "}\n",
    "df = pd.DataFrame(data)\n",
    "print(\"DataFrame with missing values:\")\n",
    "print(df)\n",
    "\n",
    "# Fill missing values\n",
    "df_filled = df.fillna(0)\n",
    "print(\"DataFrame after filling missing values:\")\n",
    "print(df_filled)\n",
    "\n",
    "# Drop rows with missing values\n",
    "df_dropped = df.dropna()\n",
    "print(\"DataFrame after dropping rows with missing values:\")\n",
    "print(df_dropped)\n"
   ],
   "metadata": {
    "collapsed": false
   },
   "id": "9cea4965722e4813"
  },
  {
   "cell_type": "code",
   "outputs": [],
   "source": [
    "data = {\n",
    "    \"Name\": [\"Amit\", \"Rahul\", \"Priya\", \"Sneha\", \"Vikram\"],\n",
    "    \"Department\": [\"HR\", \"IT\", \"HR\", \"Finance\", \"IT\"],\n",
    "    \"Salary\": [50000, 60000, 55000, 70000, 80000]\n",
    "}\n",
    "df = pd.DataFrame(data)\n",
    "print(\"Original DataFrame:\")\n",
    "print(df)\n",
    "\n",
    "# Group by Department and calculate mean salary\n",
    "print(\"Mean salary by department:\")\n",
    "print(df.groupby(\"Department\")[\"Salary\"].mean())\n",
    "\n",
    "# Group by Department and get summary statistics\n",
    "print(\"Summary statistics by department:\")\n",
    "print(df.groupby(\"Department\")[\"Salary\"].describe())\n",
    "data = {\n",
    "    \"Date\": [\"2023-01-01\", \"2023-01-01\", \"2023-01-02\", \"2023-01-02\"],\n",
    "    \"City\": [\"Delhi\", \"Mumbai\", \"Delhi\", \"Mumbai\"],\n",
    "    \"Sales\": [100, 150, 200, 250]\n",
    "}\n",
    "df = pd.DataFrame(data)\n",
    "print(\"Original DataFrame:\")\n",
    "print(df)\n",
    "\n",
    "# Create a pivot table\n",
    "pivot = df.pivot_table(values=\"Sales\", index=\"Date\", columns=\"City\", aggfunc=\"sum\")\n",
    "print(\"Pivot Table:\")\n",
    "print(pivot)\n",
    "df1 = pd.DataFrame({\n",
    "    \"ID\": [1, 2, 3],\n",
    "    \"Name\": [\"Amit\", \"Rahul\", \"Priya\"]\n",
    "})\n",
    "\n",
    "df2 = pd.DataFrame({\n",
    "    \"ID\": [1, 2, 4],\n",
    "    \"Age\": [24, 27, 22]\n",
    "})\n",
    "\n",
    "# Merge DataFrames\n",
    "merged_df = pd.merge(df1, df2, on=\"ID\", how=\"inner\")\n",
    "print(\"Merged DataFrame (inner join):\")\n",
    "print(merged_df)\n",
    "\n",
    "# Outer join\n",
    "merged_df_outer = pd.merge(df1, df2, on=\"ID\", how=\"outer\")\n",
    "print(\"Merged DataFrame (outer join):\")\n",
    "print(merged_df_outer)\n"
   ],
   "metadata": {
    "collapsed": false
   },
   "id": "2b9b9bf173bd891b"
  },
  {
   "cell_type": "code",
   "outputs": [],
   "source": [
    "date_rng = pd.date_range(start=\"2023-01-01\", end=\"2023-01-10\", freq=\"D\")\n",
    "df = pd.DataFrame(date_rng, columns=[\"date\"])\n",
    "df[\"data\"] = np.random.randint(0, 100, size=(len(date_rng)))\n",
    "df.set_index(\"date\", inplace=True)\n",
    "print(\"Time Series DataFrame:\")\n",
    "print(df)\n",
    "\n",
    "# Resample and aggregate data\n",
    "print(\"Resampled Data (Weekly Mean):\")\n",
    "print(df.resample(\"W\").mean())\n"
   ],
   "metadata": {
    "collapsed": false
   },
   "id": "607eb45bc2abea16"
  },
  {
   "cell_type": "code",
   "outputs": [],
   "source": [
    "arrays = [\n",
    "    [\"A\", \"A\", \"B\", \"B\"],\n",
    "    [\"one\", \"two\", \"one\", \"two\"]\n",
    "]\n",
    "index = pd.MultiIndex.from_arrays(arrays, names=(\"letter\", \"number\"))\n",
    "df = pd.DataFrame({\"data\": [10, 20, 30, 40]}, index=index)\n",
    "print(\"Multi-Indexed DataFrame:\")\n",
    "print(df)\n",
    "\n",
    "# Accessing data\n",
    "print(\"Data for index ('A', 'one'):\")\n",
    "print(df.loc[(\"A\", \"one\")])\n"
   ],
   "metadata": {
    "collapsed": false
   },
   "id": "516d9b89a427e5ec"
  }
 ],
 "metadata": {
  "kernelspec": {
   "display_name": "Python 3",
   "language": "python",
   "name": "python3"
  },
  "language_info": {
   "codemirror_mode": {
    "name": "ipython",
    "version": 2
   },
   "file_extension": ".py",
   "mimetype": "text/x-python",
   "name": "python",
   "nbconvert_exporter": "python",
   "pygments_lexer": "ipython2",
   "version": "2.7.6"
  }
 },
 "nbformat": 4,
 "nbformat_minor": 5
}
