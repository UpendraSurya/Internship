{
 "cells": [
  {
   "cell_type": "markdown",
   "source": [
    " ## Python Exercises Problems"
   ],
   "metadata": {
    "collapsed": false
   },
   "id": "3aeb71ace7bd5d69"
  },
  {
   "cell_type": "markdown",
   "source": [
    "#### Area Calculator:"
   ],
   "metadata": {
    "collapsed": false
   },
   "id": "5c2ede321ba8a0c2"
  },
  {
   "cell_type": "markdown",
   "source": [
    "*Create a function Calculate_area(shape, dimensions) that takes the shape (e.g., \"rectangle\", \"circle\") and its dimensions as arguments.\n",
    "*The function should calculate the area based on the shape and return the result.\n",
    "*Implement logic for handling different shapes (rectangle, circle) and their corresponding dimensions (length, width for rectangle; radius for circle)."
   ],
   "metadata": {
    "collapsed": false
   },
   "id": "e4c158055fda254a"
  },
  {
   "cell_type": "code",
   "outputs": [
    {
     "name": "stdout",
     "output_type": "stream",
     "text": [
      "28.274333882308138\n"
     ]
    }
   ],
   "source": [
    "import math\n",
    "def AreaCal(shape,dim):\n",
    "    if shape =='rectangle':\n",
    "        if dim !=2:\n",
    "            print(\"Please enter vaild dimension\")\n",
    "        else:\n",
    "            l=float(input())\n",
    "            w=float(input())\n",
    "            return l*w\n",
    "    elif shape =='circle':\n",
    "        if dim!=1:\n",
    "            print(\"Please enter vaild dimension\")\n",
    "        else:\n",
    "            r=float(input())\n",
    "            return math.pi*r*r\n",
    "    elif shape =='triangle':\n",
    "        if dim!=2:\n",
    "            print(\"Please enter vaild dimension\")\n",
    "        else:\n",
    "            h=float(input())\n",
    "            b=float(input())\n",
    "            return h*b*0.5\n",
    "    else:\n",
    "        print(\"INVALID SHAPE\")\n",
    "    \n",
    "shape=input(\"Enter the shape you want to calculate\") \n",
    "dim=int(input(\"\"))\n",
    "result=AreaCal(shape,dim)\n",
    "print(result)"
   ],
   "metadata": {
    "collapsed": false,
    "ExecuteTime": {
     "end_time": "2024-06-06T09:45:32.905266700Z",
     "start_time": "2024-06-06T09:45:23.197974400Z"
    }
   },
   "id": "1d8c54dad15522de",
   "execution_count": 61
  },
  {
   "cell_type": "markdown",
   "source": [
    "#### String Manipulation\n",
    "\n",
    "Create a function reverse_words(text) that takes a string as input.\n",
    "The function should reverse the order of words in the string while maintaining the order of characters within each word. -Return the modified string."
   ],
   "metadata": {
    "collapsed": false
   },
   "id": "2bf80a7d70909978"
  },
  {
   "cell_type": "code",
   "outputs": [
    {
     "name": "stdout",
     "output_type": "stream",
     "text": [
      "olleh\n"
     ]
    }
   ],
   "source": [
    "def reverse_text(text):\n",
    "    reversed_text = text[::-1]\n",
    "    return reversed_text\n",
    "\n",
    "text = \"hello\"\n",
    "reversed_text = reverse_text(text)\n",
    "print(reversed_text)\n",
    "\n"
   ],
   "metadata": {
    "collapsed": false,
    "ExecuteTime": {
     "end_time": "2024-06-06T09:45:32.906264100Z",
     "start_time": "2024-06-06T09:45:32.893765400Z"
    }
   },
   "id": "a4e97e94320d5a78",
   "execution_count": 62
  },
  {
   "cell_type": "markdown",
   "source": [
    "#### List Statistics\n",
    "\n",
    "Create a function analyze_list(numbers) that takes a list of numbers as input.\n",
    "The function should calculate and return the following in a dictionary:\n",
    "Minimum value in the list\n",
    "Maximum value in the list\n",
    "Average value in the list (use sum and division)\n",
    "Use a dictionary to store and return the calculated statistics.\n",
    "Hint: Utilize built-in functions like min, max, and sum for calculations."
   ],
   "metadata": {
    "collapsed": false
   },
   "id": "5862b35df54d1955"
  },
  {
   "cell_type": "code",
   "outputs": [
    {
     "name": "stdout",
     "output_type": "stream",
     "text": [
      "{'min': 1, 'max': 10, 'Average': 5.5}\n"
     ]
    }
   ],
   "source": [
    "def numbers(num):\n",
    "    maxi=max(num)\n",
    "    miin=min(num)\n",
    "    average=sum(num)/len(num)\n",
    "    \n",
    "    return {'min':miin,'max':maxi,'Average':average}\n",
    "\n",
    "num=[1,2,3,4,5,6,7,8,9,10]\n",
    "numbers=numbers(num)\n",
    "print(numbers)"
   ],
   "metadata": {
    "collapsed": false,
    "ExecuteTime": {
     "end_time": "2024-06-06T09:45:32.913263700Z",
     "start_time": "2024-06-06T09:45:32.899445300Z"
    }
   },
   "id": "713b20f8ce23fb12",
   "execution_count": 63
  },
  {
   "cell_type": "markdown",
   "source": [
    "#### Filter with lamda\n",
    "\n",
    "Create a list of product names (strings).\n",
    "Define a function filter_short_names(names, max_length) that takes the list of names and a maximum length as arguments.\n",
    "Use filter with a lambda function to return a new list containing only names shorter than the provided max_length."
   ],
   "metadata": {
    "collapsed": false
   },
   "id": "f76ad2f31d17377b"
  },
  {
   "cell_type": "code",
   "outputs": [
    {
     "ename": "TypeError",
     "evalue": "'list' object is not callable",
     "output_type": "error",
     "traceback": [
      "\u001B[1;31m---------------------------------------------------------------------------\u001B[0m",
      "\u001B[1;31mTypeError\u001B[0m                                 Traceback (most recent call last)",
      "Cell \u001B[1;32mIn[67], line 5\u001B[0m\n\u001B[0;32m      2\u001B[0m     \u001B[38;5;28;01mreturn\u001B[39;00m \u001B[38;5;28mlist\u001B[39m(\u001B[38;5;28mfilter\u001B[39m(\u001B[38;5;28;01mlambda\u001B[39;00m name: \u001B[38;5;28mlen\u001B[39m(name)\u001B[38;5;241m<\u001B[39m\u001B[38;5;241m=\u001B[39mmax_length,names))\n\u001B[0;32m      4\u001B[0m names_k\u001B[38;5;241m=\u001B[39m[\u001B[38;5;124m\"\u001B[39m\u001B[38;5;124mJohn\u001B[39m\u001B[38;5;124m\"\u001B[39m,\u001B[38;5;124m\"\u001B[39m\u001B[38;5;124mSmith\u001B[39m\u001B[38;5;124m\"\u001B[39m,\u001B[38;5;124m\"\u001B[39m\u001B[38;5;124myuva\u001B[39m\u001B[38;5;124m\"\u001B[39m,\u001B[38;5;124m\"\u001B[39m\u001B[38;5;124malex\u001B[39m\u001B[38;5;124m\"\u001B[39m,\u001B[38;5;124m\"\u001B[39m\u001B[38;5;124mnarayana\u001B[39m\u001B[38;5;124m\"\u001B[39m]\n\u001B[1;32m----> 5\u001B[0m short_ee\u001B[38;5;241m=\u001B[39mfiltering(names_k,\u001B[38;5;241m4\u001B[39m)\n\u001B[0;32m      6\u001B[0m \u001B[38;5;28mprint\u001B[39m(short_ee)\n",
      "Cell \u001B[1;32mIn[67], line 2\u001B[0m, in \u001B[0;36mfiltering\u001B[1;34m(names, max_length)\u001B[0m\n\u001B[0;32m      1\u001B[0m \u001B[38;5;28;01mdef\u001B[39;00m \u001B[38;5;21mfiltering\u001B[39m(names,max_length):\n\u001B[1;32m----> 2\u001B[0m     \u001B[38;5;28;01mreturn\u001B[39;00m \u001B[38;5;28mlist\u001B[39m(\u001B[38;5;28mfilter\u001B[39m(\u001B[38;5;28;01mlambda\u001B[39;00m name: \u001B[38;5;28mlen\u001B[39m(name)\u001B[38;5;241m<\u001B[39m\u001B[38;5;241m=\u001B[39mmax_length,names))\n",
      "\u001B[1;31mTypeError\u001B[0m: 'list' object is not callable"
     ]
    }
   ],
   "source": [
    "\n",
    "def filtering(names,max_length):\n",
    "    return list(filter(lambda name: len(name)<=max_length,names))\n",
    "\n",
    "names_k=[\"John\",\"Smith\",\"yuva\",\"alex\",\"narayana\"]\n",
    "short_ee=filtering(names_k,4)\n",
    "print(short_ee)"
   ],
   "metadata": {
    "collapsed": false,
    "ExecuteTime": {
     "end_time": "2024-06-06T09:58:54.989963600Z",
     "start_time": "2024-06-06T09:58:54.951561200Z"
    }
   },
   "id": "99eeed053ddc589f",
   "execution_count": 67
  },
  {
   "cell_type": "code",
   "outputs": [],
   "source": [],
   "metadata": {
    "collapsed": false,
    "ExecuteTime": {
     "end_time": "2024-06-06T09:47:12.334203300Z",
     "start_time": "2024-06-06T09:47:12.323568600Z"
    }
   },
   "id": "bc3b3bd348b07bfc",
   "execution_count": 66
  },
  {
   "cell_type": "code",
   "outputs": [],
   "source": [],
   "metadata": {
    "collapsed": false,
    "ExecuteTime": {
     "end_time": "2024-06-06T09:47:12.518292900Z",
     "start_time": "2024-06-06T09:47:12.506487Z"
    }
   },
   "id": "691a82284680d965",
   "execution_count": 66
  },
  {
   "cell_type": "code",
   "outputs": [],
   "source": [],
   "metadata": {
    "collapsed": false,
    "ExecuteTime": {
     "end_time": "2024-06-06T09:47:12.745097500Z",
     "start_time": "2024-06-06T09:47:12.731070Z"
    }
   },
   "id": "2a1c9afdc1953334",
   "execution_count": 66
  },
  {
   "cell_type": "code",
   "outputs": [],
   "source": [],
   "metadata": {
    "collapsed": false
   },
   "id": "49e559c865fc2f70"
  }
 ],
 "metadata": {
  "kernelspec": {
   "display_name": "Python 3",
   "language": "python",
   "name": "python3"
  },
  "language_info": {
   "codemirror_mode": {
    "name": "ipython",
    "version": 2
   },
   "file_extension": ".py",
   "mimetype": "text/x-python",
   "name": "python",
   "nbconvert_exporter": "python",
   "pygments_lexer": "ipython2",
   "version": "2.7.6"
  }
 },
 "nbformat": 4,
 "nbformat_minor": 5
}
