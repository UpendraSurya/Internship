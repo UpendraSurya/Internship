{
 "cells": [
  {
   "cell_type": "markdown",
   "source": [
    "# Exception handling\n"
   ],
   "metadata": {
    "collapsed": false
   },
   "id": "b898e064374b14fb"
  },
  {
   "cell_type": "markdown",
   "source": [
    "### Handling Multiple Exceptions with a Single except Block:\n",
    "\n",
    "Question: Explain and demonstrate how you can handle multiple exceptions with a single except block in Python. Provide an example where a block of code might raise a ValueError or a ZeroDivisionError, and show how you would handle these exceptions together."
   ],
   "metadata": {
    "collapsed": false
   },
   "id": "b42ec6e5aecc56d6"
  },
  {
   "cell_type": "code",
   "execution_count": 7,
   "id": "initial_id",
   "metadata": {
    "collapsed": true,
    "ExecuteTime": {
     "end_time": "2024-06-08T10:22:20.895816900Z",
     "start_time": "2024-06-08T10:22:20.878292300Z"
    }
   },
   "outputs": [
    {
     "name": "stdout",
     "output_type": "stream",
     "text": [
      "An error occurred: invalid literal for int() with base 10: 'not a number'\n"
     ]
    }
   ],
   "source": [
    "try:\n",
    "    x = int(\"not a number\")\n",
    "    y = 1 / 0\n",
    "except (ValueError, ZeroDivisionError) as e:\n",
    "    print(f\"An error occurred: {e}\")\n"
   ]
  },
  {
   "cell_type": "markdown",
   "source": [
    "### File Reading with Exception Handling:\n",
    "\n",
    "Question: Write a Python function that attempts to open and read a file. If the file does not exist, handle the exception and return a specific message. If any other exception occurs, return a generic error message."
   ],
   "metadata": {
    "collapsed": false
   },
   "id": "754f4168f3752785"
  },
  {
   "cell_type": "code",
   "outputs": [],
   "source": [
    "def read_file(filename):\n",
    "    try:\n",
    "        with open(filename, 'r') as file:\n",
    "            return file.read()\n",
    "    except FileNotFoundError:\n",
    "        return \"File not found\"\n",
    "    except Exception as e:\n",
    "        return f\"An error occurred: {e}\"\n"
   ],
   "metadata": {
    "collapsed": false,
    "ExecuteTime": {
     "end_time": "2024-06-08T10:22:20.896819600Z",
     "start_time": "2024-06-08T10:22:20.882813800Z"
    }
   },
   "id": "6a77a9bcb64168d0",
   "execution_count": 8
  },
  {
   "cell_type": "markdown",
   "source": [
    "### The Role of the finally Block:\n",
    "\n",
    "Question: Describe the role of the finally block in Python exception handling. Provide an example where the finally block ensures that certain cleanup actions are always performed, regardless of whether an exception occurs."
   ],
   "metadata": {
    "collapsed": false
   },
   "id": "bb78aba0fda7d32a"
  },
  {
   "cell_type": "code",
   "outputs": [
    {
     "name": "stdout",
     "output_type": "stream",
     "text": [
      "Execution of divide_numbers completed.\n",
      "5.0\n",
      "Execution of divide_numbers completed.\n",
      "Cannot divide by zero\n"
     ]
    }
   ],
   "source": [
    "def divide_numbers(a, b):\n",
    "    try:\n",
    "        result = a / b\n",
    "    except ZeroDivisionError:\n",
    "        return \"Cannot divide by zero\"\n",
    "    else:\n",
    "        return result\n",
    "    finally:\n",
    "        print(\"Execution of divide_numbers completed.\")\n",
    "\n",
    "# Usage\n",
    "print(divide_numbers(10, 2))\n",
    "print(divide_numbers(10, 0))\n"
   ],
   "metadata": {
    "collapsed": false,
    "ExecuteTime": {
     "end_time": "2024-06-08T10:22:20.897801700Z",
     "start_time": "2024-06-08T10:22:20.888362400Z"
    }
   },
   "id": "14bb26ddc4154163",
   "execution_count": 9
  },
  {
   "cell_type": "markdown",
   "source": [
    "### Using raise to Propagate Exceptions:\n",
    "\n",
    "Question: Demonstrate how the raise statement can be used to propagate an exception up the call stack. Write a function that raises an exception and another function that calls this function and handles the exception."
   ],
   "metadata": {
    "collapsed": false
   },
   "id": "e6709215bf5765f8"
  },
  {
   "cell_type": "code",
   "outputs": [
    {
     "name": "stdout",
     "output_type": "stream",
     "text": [
      "Caught in level_one: An error occurred in level_two\n"
     ]
    }
   ],
   "source": [
    "def level_one():\n",
    "    try:\n",
    "        level_two()\n",
    "    except ValueError as e:\n",
    "        print(f\"Caught in level_one: {e}\")\n",
    "\n",
    "def level_two():\n",
    "    raise ValueError(\"An error occurred in level_two\")\n",
    "\n",
    "# Usage\n",
    "level_one()\n"
   ],
   "metadata": {
    "collapsed": false,
    "ExecuteTime": {
     "end_time": "2024-06-08T10:22:20.906763200Z",
     "start_time": "2024-06-08T10:22:20.900798800Z"
    }
   },
   "id": "d85a45042427a7c7",
   "execution_count": 10
  },
  {
   "cell_type": "markdown",
   "source": [
    "### Simulating a Simple Transaction System:\n",
    "\n",
    "Question: Write a program that simulates a simple banking transaction system. The program should raise a custom exception if a withdrawal amount exceeds the available balance and handle this exception appropriately to ensure the program does not crash."
   ],
   "metadata": {
    "collapsed": false
   },
   "id": "7db602cfd95d5863"
  },
  {
   "cell_type": "code",
   "outputs": [
    {
     "name": "stdout",
     "output_type": "stream",
     "text": [
      "Insufficient funds for this transaction\n"
     ]
    }
   ],
   "source": [
    "class InsufficientFunds(Exception):\n",
    "    pass\n",
    "\n",
    "class Account:\n",
    "    def __init__(self, balance):\n",
    "        self.balance = balance\n",
    "\n",
    "    def withdraw(self, amount):\n",
    "        if amount > self.balance:\n",
    "            raise InsufficientFunds(\"Insufficient funds for this transaction\")\n",
    "        self.balance -= amount\n",
    "        return self.balance\n",
    "\n",
    "def main():\n",
    "    account = Account(100)\n",
    "    try:\n",
    "        print(\"Balance after withdrawal:\", account.withdraw(150))\n",
    "    except InsufficientFunds as e:\n",
    "        print(e)\n",
    "\n",
    "# Usage\n",
    "main()\n"
   ],
   "metadata": {
    "collapsed": false,
    "ExecuteTime": {
     "end_time": "2024-06-08T10:22:20.942133900Z",
     "start_time": "2024-06-08T10:22:20.905764900Z"
    }
   },
   "id": "e795f992513c4c6d",
   "execution_count": 11
  },
  {
   "cell_type": "code",
   "outputs": [],
   "source": [],
   "metadata": {
    "collapsed": false,
    "ExecuteTime": {
     "end_time": "2024-06-08T10:22:20.942133900Z",
     "start_time": "2024-06-08T10:22:20.909941800Z"
    }
   },
   "id": "a970935461bf259e",
   "execution_count": 11
  }
 ],
 "metadata": {
  "kernelspec": {
   "display_name": "Python 3",
   "language": "python",
   "name": "python3"
  },
  "language_info": {
   "codemirror_mode": {
    "name": "ipython",
    "version": 2
   },
   "file_extension": ".py",
   "mimetype": "text/x-python",
   "name": "python",
   "nbconvert_exporter": "python",
   "pygments_lexer": "ipython2",
   "version": "2.7.6"
  }
 },
 "nbformat": 4,
 "nbformat_minor": 5
}
