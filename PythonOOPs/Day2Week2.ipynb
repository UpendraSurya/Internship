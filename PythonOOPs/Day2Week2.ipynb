{
 "cells": [
  {
   "cell_type": "markdown",
   "source": [
    "### Python OOPs Concepts\n"
   ],
   "metadata": {
    "collapsed": false
   },
   "id": "43eda7144dc339a0"
  },
  {
   "cell_type": "markdown",
   "source": [
    "## Book and EBook Classes \n",
    "\n",
    " Create a class Book with attributes title and author, and a method get_info() that returns a string with the book's title and author. Then create a subclass EBook that adds an attribute file_size and overrides the get_info() method to include the file size in the returned string. Write code to demonstrate this functionality.\n",
    "\n"
   ],
   "metadata": {
    "collapsed": false
   },
   "id": "820df56edf31ed2c"
  },
  {
   "cell_type": "code",
   "outputs": [
    {
     "name": "stdout",
     "output_type": "stream",
     "text": [
      "Title: november 9, Author: hoover, Filesize: 88\n"
     ]
    }
   ],
   "source": [
    "class Book: #creating a main class\n",
    "    def __init__(self, title, author):\n",
    "        self.title=title\n",
    "        self.author=author\n",
    "        \n",
    "        def get_info(self):\n",
    "            return \"Title: {self.title}, Author: {self.author}\"\n",
    "class EBook(Book): # creating a subclass\n",
    "    def __init__(self,title,author,filesize):\n",
    "        super().__init__(title,author)\n",
    "        self.filesize=filesize\n",
    "        \n",
    "    def get_info(self): #Overridding the get_info\n",
    "           return f\"Title: {self.title}, Author: {self.author}, Filesize: {self.filesize}\"\n",
    "        \n",
    "ebook1=EBook(\"november 9\",\"hoover\",88)\n",
    "print (ebook1.get_info())\n",
    "    \n",
    "        "
   ],
   "metadata": {
    "collapsed": false,
    "ExecuteTime": {
     "end_time": "2024-06-07T10:13:57.926234700Z",
     "start_time": "2024-06-07T10:13:57.822474Z"
    }
   },
   "id": "7ea9c31d2fd08961",
   "execution_count": 1
  },
  {
   "cell_type": "markdown",
   "source": [
    "## Transport, Car, and Bicycle Classes \n",
    "Define an abstract class Transport with an abstract method move(). Create two subclasses Car and Bicycle, each implementing the move() method to print specific messages. Also, add an attribute speed to each subclass and a method get_speed() to return the speed. Write a program to create instances of Car and Bicycle and demonstrate their functionality."
   ],
   "metadata": {
    "collapsed": false
   },
   "id": "b44b600544c702c3"
  },
  {
   "cell_type": "code",
   "outputs": [
    {
     "name": "stdout",
     "output_type": "stream",
     "text": [
      "the car is moving in speed of  80\n",
      "the Truck is moving in speed of  80\n",
      "the bicycle is moving in speed of  8\n"
     ]
    }
   ],
   "source": [
    "from abc import ABC, abstractmethod\n",
    " \n",
    "class Transport(ABC):\n",
    "    @abstractmethod\n",
    "    def move(self):\n",
    "        pass\n",
    "    \n",
    "class Car(Transport):\n",
    "    def __init__(self,speed):\n",
    "        self.speed=speed\n",
    "        \n",
    "    def move(self): print(\"the car is moving in speed of \",self.speed)\n",
    "    \n",
    "class Truck(Transport):\n",
    "    \n",
    "    def __init__(self,speed):\n",
    "        self.speed=speed\n",
    "    \n",
    "    def move(self): print(\"the Truck is moving in speed of \",self.speed)\n",
    "\n",
    "class Bicycle(Transport):\n",
    "    def __init__(self,speed):\n",
    "        self.speed=speed\n",
    "        \n",
    "    def move(self): print(\"the bicycle is moving in speed of \",self.speed)\n",
    "    \n",
    "car=Car(80)    \n",
    "car.move()\n",
    "\n",
    "Truck(80).move()\n",
    "Bicycle(8).move()"
   ],
   "metadata": {
    "collapsed": false,
    "ExecuteTime": {
     "end_time": "2024-06-07T10:13:57.929236100Z",
     "start_time": "2024-06-07T10:13:57.838852500Z"
    }
   },
   "id": "418e2870565aa980",
   "execution_count": 2
  },
  {
   "cell_type": "markdown",
   "source": [
    "## BankAccount and SavingsAccount Classes\n",
    " \n",
    "Implement a class BankAccount with attributes account_number and balance. Create a subclass SavingsAccount that adds an attribute interest_rate and a method apply_interest() to update the balance by applying the interest rate. Write a program to create an instance of SavingsAccount, deposit an amount, apply interest, and print the updated balance.\n",
    "\n"
   ],
   "metadata": {
    "collapsed": false
   },
   "id": "3e358b8d0d203c67"
  },
  {
   "cell_type": "code",
   "outputs": [
    {
     "name": "stdout",
     "output_type": "stream",
     "text": [
      "bal before applying interest: 1000\n",
      "bal after applying interest: 1050.0\n",
      "bal: 1850.0\n"
     ]
    }
   ],
   "source": [
    "class BankAccount:\n",
    "    def __init__(self, accnum, bal):\n",
    "        self.accnum = accnum\n",
    "        self.bal = bal\n",
    "\n",
    "    def deposit(self, amount):\n",
    "        self.bal += amount\n",
    "\n",
    "class SavingsAccount(BankAccount):\n",
    "    def __init__(self, accnum, bal, interest_rate):\n",
    "        super().__init__(accnum, bal)\n",
    "        self.interest_rate = interest_rate\n",
    "\n",
    "    def apply_interest(self):\n",
    "        interest_amount = self.bal * (self.interest_rate / 100)\n",
    "        self.deposit(interest_amount)\n",
    "\n",
    "\n",
    "savings_account = SavingsAccount(\"123456\", 1000, 5)  \n",
    "\n",
    "print(\"bal before applying interest:\", savings_account.bal)\n",
    "savings_account.apply_interest()\n",
    "print(\"bal after applying interest:\", savings_account.bal)\n",
    "savings_account.deposit(800)\n",
    "print(\"bal:\", savings_account.bal)\n"
   ],
   "metadata": {
    "collapsed": false,
    "ExecuteTime": {
     "end_time": "2024-06-07T10:13:58.129266500Z",
     "start_time": "2024-06-07T10:13:57.853957100Z"
    }
   },
   "id": "48be8c1920f959b2",
   "execution_count": 3
  },
  {
   "cell_type": "markdown",
   "source": [
    "## Shape, Square, and Triangle Classes\n",
    "\n",
    "Implement a class hierarchy with an abstract class Shape and concrete subclasses Square and Triangle. Each subclass should implement a method perimeter() to calculate the perimeter of the shape. Write a program to create instances of Square and Triangle and calculate their perimeters."
   ],
   "metadata": {
    "collapsed": false
   },
   "id": "cd611f333128b0da"
  },
  {
   "cell_type": "code",
   "outputs": [
    {
     "name": "stdout",
     "output_type": "stream",
     "text": [
      "Square Perimeter: 16\n",
      "Triangle Perimeter: 12\n"
     ]
    }
   ],
   "source": [
    "from abc import ABC, abstractmethod\n",
    "\n",
    "class Shape(ABC):\n",
    "    @abstractmethod\n",
    "    def perimeter(self):\n",
    "        pass\n",
    "\n",
    "class Square(Shape):\n",
    "    def __init__(self, l):\n",
    "        self.l = l\n",
    "\n",
    "    def perimeter(self):\n",
    "        return 4 * self.l\n",
    "\n",
    "class Triangle(Shape):\n",
    "    def __init__(self, s1, s2, s3):\n",
    "        self.s1 = s1\n",
    "        self.s2 = s2\n",
    "        self.s3 = s3\n",
    "\n",
    "    def perimeter(self):\n",
    "        return self.s1 + self.s2 + self.s3\n",
    "\n",
    "square = Square(4)\n",
    "triangle = Triangle(3, 4, 5)\n",
    "\n",
    "print(f\"Square Perimeter: {square.perimeter()}\") \n",
    "print(f\"Triangle Perimeter: {triangle.perimeter()}\")  \n"
   ],
   "metadata": {
    "collapsed": false,
    "ExecuteTime": {
     "end_time": "2024-06-07T10:13:58.132269Z",
     "start_time": "2024-06-07T10:13:57.873194500Z"
    }
   },
   "id": "9994b09f6818dc13",
   "execution_count": 4
  },
  {
   "cell_type": "markdown",
   "source": [
    "## Employee and Manager Classes\n",
    "\n",
    "Define a class Employee with attributes name and salary. Implement a method give_raise() to increase the salary by a given percentage. Create a subclass Manager that adds an attribute bonus and overrides the give_raise() method to also add the bonus to the salary. Demonstrate the functionality by creating instances of Employee and Manager and applying raises.\n"
   ],
   "metadata": {
    "collapsed": false
   },
   "id": "fda0df43090a2a58"
  },
  {
   "cell_type": "code",
   "outputs": [
    {
     "name": "stdout",
     "output_type": "stream",
     "text": [
      "Employee's New Salary: $55000.00000000001\n",
      "Manager's New Salary: $76000.0\n"
     ]
    }
   ],
   "source": [
    "class Employee:\n",
    "    def __init__(self, name, salary):\n",
    "        self.name = name\n",
    "        self.salary = salary\n",
    "\n",
    "    def give_raise(self, percentage):\n",
    "        self.salary *= (1 + percentage / 100)\n",
    "\n",
    "class Manager(Employee):\n",
    "    def __init__(self, name, salary, bonus):\n",
    "        super().__init__(name, salary)\n",
    "        self.bonus = bonus\n",
    "\n",
    "    def give_raise(self, percentage):\n",
    "        super().give_raise(percentage)\n",
    "        self.salary += self.bonus\n",
    "\n",
    "employee = Employee(\"krishna\", 50000)\n",
    "manager = Manager(\"kiran\", 60000, 10000)\n",
    "\n",
    "employee.give_raise(10)\n",
    "manager.give_raise(10)\n",
    "\n",
    "print(f\"Employee's New Salary: ${employee.salary}\")  \n",
    "print(f\"Manager's New Salary: ${manager.salary}\")  \n"
   ],
   "metadata": {
    "collapsed": false,
    "ExecuteTime": {
     "end_time": "2024-06-07T10:13:58.133268300Z",
     "start_time": "2024-06-07T10:13:57.887851600Z"
    }
   },
   "id": "6f26120ef923e90f",
   "execution_count": 5
  },
  {
   "cell_type": "markdown",
   "source": [
    "## VowelConsonantCounter\n",
    "\n",
    "Write a Python class named \"StringAnalyzer\" with a static method named \"count_vowels\" that takes a string as input and prints the count of vowels (a, e, i, o, u) in the string. Additionally, add another static method named \"count_consonants\" that takes a string as input and prints the count of consonants (non-vowel alphabets) in the string. Test both methods with sample strings.   give the anwer and give a name to it"
   ],
   "metadata": {
    "collapsed": false
   },
   "id": "855d1b559dfea363"
  },
  {
   "cell_type": "code",
   "outputs": [
    {
     "name": "stdout",
     "output_type": "stream",
     "text": [
      "Number of vowels: 3\n",
      "Number of consonants: 7\n"
     ]
    }
   ],
   "source": [
    "class StringAnalyzer:\n",
    "    @staticmethod\n",
    "    def count_vowels(string):\n",
    "        vowels = 'aeiouAEIOU'\n",
    "        vowel_count = sum(1 for char in string if char in vowels)\n",
    "        print(\"Number of vowels:\", vowel_count)\n",
    "\n",
    "    @staticmethod\n",
    "    def count_consonants(string):\n",
    "        consonants = 'bcdfghjklmnpqrstvwxyzBCDFGHJKLMNPQRSTVWXYZ'\n",
    "        consonant_count = sum(1 for char in string if char in consonants)\n",
    "        print(\"Number of consonants:\", consonant_count)\n",
    "\n",
    "StringAnalyzer.count_vowels(\"Hello, World!\")  \n",
    "StringAnalyzer.count_consonants(\"Hello, World!\")  \n"
   ],
   "metadata": {
    "collapsed": false,
    "ExecuteTime": {
     "end_time": "2024-06-07T10:13:58.187268400Z",
     "start_time": "2024-06-07T10:13:57.909687800Z"
    }
   },
   "id": "e83cf02214cd2b50",
   "execution_count": 6
  },
  {
   "cell_type": "code",
   "outputs": [],
   "source": [],
   "metadata": {
    "collapsed": false,
    "ExecuteTime": {
     "end_time": "2024-06-07T10:13:58.190267900Z",
     "start_time": "2024-06-07T10:13:57.937245900Z"
    }
   },
   "id": "9701caef96d41480",
   "execution_count": 6
  }
 ],
 "metadata": {
  "kernelspec": {
   "display_name": "Python 3",
   "language": "python",
   "name": "python3"
  },
  "language_info": {
   "codemirror_mode": {
    "name": "ipython",
    "version": 2
   },
   "file_extension": ".py",
   "mimetype": "text/x-python",
   "name": "python",
   "nbconvert_exporter": "python",
   "pygments_lexer": "ipython2",
   "version": "2.7.6"
  }
 },
 "nbformat": 4,
 "nbformat_minor": 5
}
